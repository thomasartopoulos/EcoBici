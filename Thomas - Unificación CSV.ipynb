{
 "cells": [
  {
   "cell_type": "code",
   "execution_count": 32,
   "metadata": {},
   "outputs": [],
   "source": [
    "import pandas as pd\n",
    "import numpy as np\n",
    "from datetime import timedelta\n",
    "import matplotlib.pyplot as plt\n",
    "import requests\n",
    "import seaborn as sns\n",
    "import json\n",
    "import os\n",
    "import datetime as dt\n",
    "import re\n",
    "\n",
    "\n",
    "from geopy import distance\n",
    "from pandas.api.types import CategoricalDtype"
   ]
  },
  {
   "cell_type": "code",
   "execution_count": 33,
   "metadata": {},
   "outputs": [
    {
     "output_type": "execute_result",
     "data": {
      "text/plain": [
       "   periodo fecha_origen_recorrido  id_estacion_origen nombre_estacion_origen  \\\n",
       "0     2011    2011-09-29 19:40:00                 9.0       Parque Las Heras   \n",
       "1     2011    2011-09-29 19:37:00                 2.0                 Retiro   \n",
       "2     2011    2011-09-29 19:36:00                12.0    Plaza Vicente López   \n",
       "\n",
       "   long_estacion_origen  lat_estacion_origen  \\\n",
       "0            -58.407145           -34.583915   \n",
       "1            -58.374822           -34.592589   \n",
       "2            -58.388949           -34.593177   \n",
       "\n",
       "                     domicilio_estacion_origen  duracion_recorrido  \\\n",
       "0                             Parque Las Heras                10.0   \n",
       "1  Av. Dr.Jose Ramos Mejia y Del Libertador Av                20.0   \n",
       "2                          Plaza Vicente López                 5.0   \n",
       "\n",
       "  fecha_destino_recorrido  id_estacion_destino nombre_estacion_destino  \\\n",
       "0        29/09/2011 19:49                 14.0                Pacífico   \n",
       "1        29/09/2011 19:57                  5.0            Plaza Italia   \n",
       "2        29/09/2011 19:41                  1.0     Facultad de Derecho   \n",
       "\n",
       "   long_estacion_destino  lat_estacion_destino  \\\n",
       "0             -58.426320            -34.577787   \n",
       "1             -58.420997            -34.580127   \n",
       "2             -58.392452            -34.583133   \n",
       "\n",
       "                     domicilio_estacion_destino  \n",
       "0                                      Pacífico  \n",
       "1                  Av. Santa Fe y Av. Sarmiento  \n",
       "2  Av. Pres.Figueroa Alcorta y  Juan A.Bibiloni  "
      ],
      "text/html": "<div>\n<style scoped>\n    .dataframe tbody tr th:only-of-type {\n        vertical-align: middle;\n    }\n\n    .dataframe tbody tr th {\n        vertical-align: top;\n    }\n\n    .dataframe thead th {\n        text-align: right;\n    }\n</style>\n<table border=\"1\" class=\"dataframe\">\n  <thead>\n    <tr style=\"text-align: right;\">\n      <th></th>\n      <th>periodo</th>\n      <th>fecha_origen_recorrido</th>\n      <th>id_estacion_origen</th>\n      <th>nombre_estacion_origen</th>\n      <th>long_estacion_origen</th>\n      <th>lat_estacion_origen</th>\n      <th>domicilio_estacion_origen</th>\n      <th>duracion_recorrido</th>\n      <th>fecha_destino_recorrido</th>\n      <th>id_estacion_destino</th>\n      <th>nombre_estacion_destino</th>\n      <th>long_estacion_destino</th>\n      <th>lat_estacion_destino</th>\n      <th>domicilio_estacion_destino</th>\n    </tr>\n  </thead>\n  <tbody>\n    <tr>\n      <th>0</th>\n      <td>2011</td>\n      <td>2011-09-29 19:40:00</td>\n      <td>9.0</td>\n      <td>Parque Las Heras</td>\n      <td>-58.407145</td>\n      <td>-34.583915</td>\n      <td>Parque Las Heras</td>\n      <td>10.0</td>\n      <td>29/09/2011 19:49</td>\n      <td>14.0</td>\n      <td>Pacífico</td>\n      <td>-58.426320</td>\n      <td>-34.577787</td>\n      <td>Pacífico</td>\n    </tr>\n    <tr>\n      <th>1</th>\n      <td>2011</td>\n      <td>2011-09-29 19:37:00</td>\n      <td>2.0</td>\n      <td>Retiro</td>\n      <td>-58.374822</td>\n      <td>-34.592589</td>\n      <td>Av. Dr.Jose Ramos Mejia y Del Libertador Av</td>\n      <td>20.0</td>\n      <td>29/09/2011 19:57</td>\n      <td>5.0</td>\n      <td>Plaza Italia</td>\n      <td>-58.420997</td>\n      <td>-34.580127</td>\n      <td>Av. Santa Fe y Av. Sarmiento</td>\n    </tr>\n    <tr>\n      <th>2</th>\n      <td>2011</td>\n      <td>2011-09-29 19:36:00</td>\n      <td>12.0</td>\n      <td>Plaza Vicente López</td>\n      <td>-58.388949</td>\n      <td>-34.593177</td>\n      <td>Plaza Vicente López</td>\n      <td>5.0</td>\n      <td>29/09/2011 19:41</td>\n      <td>1.0</td>\n      <td>Facultad de Derecho</td>\n      <td>-58.392452</td>\n      <td>-34.583133</td>\n      <td>Av. Pres.Figueroa Alcorta y  Juan A.Bibiloni</td>\n    </tr>\n  </tbody>\n</table>\n</div>"
     },
     "metadata": {},
     "execution_count": 33
    }
   ],
   "source": [
    "pd.read_csv(\"data/recorridos-realizados-2011.csv\").head(3)"
   ]
  },
  {
   "cell_type": "code",
   "execution_count": 34,
   "metadata": {},
   "outputs": [
    {
     "output_type": "execute_result",
     "data": {
      "text/plain": [
       "   periodo   fecha_origen_recorrido  id_estacion_origen  \\\n",
       "0     2012    2012-01-02 07:42:15.2                19.0   \n",
       "1     2012  2012-01-02 07:58:00.983                13.0   \n",
       "2     2012   2012-01-02 07:59:55.59                 9.0   \n",
       "\n",
       "  nombre_estacion_origen  lat_estacion_origen  long_estacion_origen  \\\n",
       "0       Plaza San Martín           -34.595405            -58.377549   \n",
       "1                   Once           -34.609622            -58.406599   \n",
       "2       Parque Las Heras           -34.583915            -58.407145   \n",
       "\n",
       "  domicilio_estacion_origen  duracion_recorrido fecha_destino_recorrido  \\\n",
       "0          Plaza San Martín                29.0  2012-01-02 08:10:46.89   \n",
       "1            Plaza Miserere                19.0  2012-01-02 08:16:31.84   \n",
       "2          Parque Las Heras                26.0   2012-01-02 08:25:56.7   \n",
       "\n",
       "   id_estacion_destino nombre_estacion_destino  lat_estacion_destino  \\\n",
       "0                 12.0     Plaza Vicente López            -34.593177   \n",
       "1                183.0         Virrey Cevallos            -34.615638   \n",
       "2                  4.0              Plaza Roma            -34.601721   \n",
       "\n",
       "   long_estacion_destino                 domicilio_estacion_destino  \n",
       "0             -58.388949                        Plaza Vicente López  \n",
       "1             -58.389692  México 1652 entre Virrey Cevallos y Solís  \n",
       "2             -58.368950                         Lavalle y Bouchard  "
      ],
      "text/html": "<div>\n<style scoped>\n    .dataframe tbody tr th:only-of-type {\n        vertical-align: middle;\n    }\n\n    .dataframe tbody tr th {\n        vertical-align: top;\n    }\n\n    .dataframe thead th {\n        text-align: right;\n    }\n</style>\n<table border=\"1\" class=\"dataframe\">\n  <thead>\n    <tr style=\"text-align: right;\">\n      <th></th>\n      <th>periodo</th>\n      <th>fecha_origen_recorrido</th>\n      <th>id_estacion_origen</th>\n      <th>nombre_estacion_origen</th>\n      <th>lat_estacion_origen</th>\n      <th>long_estacion_origen</th>\n      <th>domicilio_estacion_origen</th>\n      <th>duracion_recorrido</th>\n      <th>fecha_destino_recorrido</th>\n      <th>id_estacion_destino</th>\n      <th>nombre_estacion_destino</th>\n      <th>lat_estacion_destino</th>\n      <th>long_estacion_destino</th>\n      <th>domicilio_estacion_destino</th>\n    </tr>\n  </thead>\n  <tbody>\n    <tr>\n      <th>0</th>\n      <td>2012</td>\n      <td>2012-01-02 07:42:15.2</td>\n      <td>19.0</td>\n      <td>Plaza San Martín</td>\n      <td>-34.595405</td>\n      <td>-58.377549</td>\n      <td>Plaza San Martín</td>\n      <td>29.0</td>\n      <td>2012-01-02 08:10:46.89</td>\n      <td>12.0</td>\n      <td>Plaza Vicente López</td>\n      <td>-34.593177</td>\n      <td>-58.388949</td>\n      <td>Plaza Vicente López</td>\n    </tr>\n    <tr>\n      <th>1</th>\n      <td>2012</td>\n      <td>2012-01-02 07:58:00.983</td>\n      <td>13.0</td>\n      <td>Once</td>\n      <td>-34.609622</td>\n      <td>-58.406599</td>\n      <td>Plaza Miserere</td>\n      <td>19.0</td>\n      <td>2012-01-02 08:16:31.84</td>\n      <td>183.0</td>\n      <td>Virrey Cevallos</td>\n      <td>-34.615638</td>\n      <td>-58.389692</td>\n      <td>México 1652 entre Virrey Cevallos y Solís</td>\n    </tr>\n    <tr>\n      <th>2</th>\n      <td>2012</td>\n      <td>2012-01-02 07:59:55.59</td>\n      <td>9.0</td>\n      <td>Parque Las Heras</td>\n      <td>-34.583915</td>\n      <td>-58.407145</td>\n      <td>Parque Las Heras</td>\n      <td>26.0</td>\n      <td>2012-01-02 08:25:56.7</td>\n      <td>4.0</td>\n      <td>Plaza Roma</td>\n      <td>-34.601721</td>\n      <td>-58.368950</td>\n      <td>Lavalle y Bouchard</td>\n    </tr>\n  </tbody>\n</table>\n</div>"
     },
     "metadata": {},
     "execution_count": 34
    }
   ],
   "source": [
    "pd.read_csv(\"data/recorridos-realizados-2012.csv\").head(3)"
   ]
  },
  {
   "cell_type": "code",
   "execution_count": 35,
   "metadata": {},
   "outputs": [
    {
     "output_type": "execute_result",
     "data": {
      "text/plain": [
       "   periodo  id_usuario   fecha_origen_recorrido  id_estacion_origen  \\\n",
       "0     2013       36680  2013-01-02 07:49:52.937                13.0   \n",
       "1     2013       68894  2013-01-02 07:52:11.530                13.0   \n",
       "2     2013       69014  2013-01-02 07:53:56.140                17.0   \n",
       "\n",
       "  nombre_estacion_origen  long_estacion_origen  lat_estacion_origen  \\\n",
       "0                   Once            -58.406599           -34.609622   \n",
       "1                   Once            -58.406599           -34.609622   \n",
       "2          Plaza Almagro            -58.418832           -34.606399   \n",
       "\n",
       "  domicilio_estacion_origen         duracion_recorrido  \\\n",
       "0            Plaza Miserere  0 days 00:21:43.733000000   \n",
       "1            Plaza Miserere  0 days 00:30:49.593000000   \n",
       "2             Plaza Almagro  0 days 00:31:08.157000000   \n",
       "\n",
       "   fecha_destino_recorrido  id_estacion_destino nombre_estacion_destino  \\\n",
       "0  2013-01-02 08:11:36.670                 21.0        Parque Patricios   \n",
       "1  2013-01-02 08:23:01.123                  4.0              Plaza Roma   \n",
       "2  2013-01-02 08:25:04.297                 12.0     Plaza Vicente López   \n",
       "\n",
       "   long_estacion_destino  lat_estacion_destino domicilio_estacion_destino  \n",
       "0             -58.406613            -34.640029         Iguazú y Uspallata  \n",
       "1             -58.368950            -34.601721         Lavalle y Bouchard  \n",
       "2             -58.388949            -34.593177        Plaza Vicente López  "
      ],
      "text/html": "<div>\n<style scoped>\n    .dataframe tbody tr th:only-of-type {\n        vertical-align: middle;\n    }\n\n    .dataframe tbody tr th {\n        vertical-align: top;\n    }\n\n    .dataframe thead th {\n        text-align: right;\n    }\n</style>\n<table border=\"1\" class=\"dataframe\">\n  <thead>\n    <tr style=\"text-align: right;\">\n      <th></th>\n      <th>periodo</th>\n      <th>id_usuario</th>\n      <th>fecha_origen_recorrido</th>\n      <th>id_estacion_origen</th>\n      <th>nombre_estacion_origen</th>\n      <th>long_estacion_origen</th>\n      <th>lat_estacion_origen</th>\n      <th>domicilio_estacion_origen</th>\n      <th>duracion_recorrido</th>\n      <th>fecha_destino_recorrido</th>\n      <th>id_estacion_destino</th>\n      <th>nombre_estacion_destino</th>\n      <th>long_estacion_destino</th>\n      <th>lat_estacion_destino</th>\n      <th>domicilio_estacion_destino</th>\n    </tr>\n  </thead>\n  <tbody>\n    <tr>\n      <th>0</th>\n      <td>2013</td>\n      <td>36680</td>\n      <td>2013-01-02 07:49:52.937</td>\n      <td>13.0</td>\n      <td>Once</td>\n      <td>-58.406599</td>\n      <td>-34.609622</td>\n      <td>Plaza Miserere</td>\n      <td>0 days 00:21:43.733000000</td>\n      <td>2013-01-02 08:11:36.670</td>\n      <td>21.0</td>\n      <td>Parque Patricios</td>\n      <td>-58.406613</td>\n      <td>-34.640029</td>\n      <td>Iguazú y Uspallata</td>\n    </tr>\n    <tr>\n      <th>1</th>\n      <td>2013</td>\n      <td>68894</td>\n      <td>2013-01-02 07:52:11.530</td>\n      <td>13.0</td>\n      <td>Once</td>\n      <td>-58.406599</td>\n      <td>-34.609622</td>\n      <td>Plaza Miserere</td>\n      <td>0 days 00:30:49.593000000</td>\n      <td>2013-01-02 08:23:01.123</td>\n      <td>4.0</td>\n      <td>Plaza Roma</td>\n      <td>-58.368950</td>\n      <td>-34.601721</td>\n      <td>Lavalle y Bouchard</td>\n    </tr>\n    <tr>\n      <th>2</th>\n      <td>2013</td>\n      <td>69014</td>\n      <td>2013-01-02 07:53:56.140</td>\n      <td>17.0</td>\n      <td>Plaza Almagro</td>\n      <td>-58.418832</td>\n      <td>-34.606399</td>\n      <td>Plaza Almagro</td>\n      <td>0 days 00:31:08.157000000</td>\n      <td>2013-01-02 08:25:04.297</td>\n      <td>12.0</td>\n      <td>Plaza Vicente López</td>\n      <td>-58.388949</td>\n      <td>-34.593177</td>\n      <td>Plaza Vicente López</td>\n    </tr>\n  </tbody>\n</table>\n</div>"
     },
     "metadata": {},
     "execution_count": 35
    }
   ],
   "source": [
    "pd.read_csv(\"data/recorridos-realizados-2013.csv\").head(3)"
   ]
  },
  {
   "cell_type": "code",
   "execution_count": 36,
   "metadata": {},
   "outputs": [
    {
     "output_type": "execute_result",
     "data": {
      "text/plain": [
       "   id_usuario   origen_recorrido_fecha  id_estacion_origen  \\\n",
       "0       36680  2014-01-02 08:03:44.437                13.0   \n",
       "1       36680  2014-01-02 08:33:59.873                23.0   \n",
       "2       91345  2014-01-02 08:43:09.263                 8.0   \n",
       "\n",
       "  nombre_estacion_origen  long_estacion_origen  lat_estacion_origen  \\\n",
       "0                   Once            -58.406599           -34.609622   \n",
       "1               Suipacha            -58.379566           -34.600296   \n",
       "2               Congreso            -58.389253           -34.609930   \n",
       "\n",
       "                 domicilio_estacion_origen tipo_estacion_origen  \\\n",
       "0                           Plaza Miserere           AUTOMÁTICA   \n",
       "1                      Suipacha y Viamonte           AUTOMÁTICA   \n",
       "2  Av. Hipólito Yrigoyen y Virrey Ceballos           AUTOMÁTICA   \n",
       "\n",
       "                  observaciones_estacion_origen  \\\n",
       "0  Abril 2015 (pasó de ser Manual a Automática)   \n",
       "1  Abril 2015 (pasó de ser Manual a Automática)   \n",
       "2  Abril 2015 (pasó de ser Manual a Automática)   \n",
       "\n",
       "                            horario_estacion_origen  \\\n",
       "0  Estación automática: disponibilidad las 24 horas   \n",
       "1  Estación automática: disponibilidad las 24 horas   \n",
       "2  Estación automática: disponibilidad las 24 horas   \n",
       "\n",
       "          duracion_recorrido  destino_recorrido_fecha  id_estacion_destino  \\\n",
       "0  0 days 00:17:06.466000000  2014-01-02 08:20:50.903                 23.0   \n",
       "1  0 days 00:11:24.110000000  2014-01-02 08:45:23.983                 24.0   \n",
       "2  0 days 00:47:02.780000000  2014-01-02 09:30:12.043                  8.0   \n",
       "\n",
       "  nombre_estacion_destino  long_estacion_destino  lat_estacion_destino  \\\n",
       "0                Suipacha             -58.379566            -34.600296   \n",
       "1                  Alsina             -58.380767            -34.610572   \n",
       "2                Congreso             -58.389253            -34.609930   \n",
       "\n",
       "                domicilio_estacion_destino tipo_estacion_destino  \\\n",
       "0                      Suipacha y Viamonte            AUTOMÁTICA   \n",
       "1     Adolfo Alsina y Bernardo de Irigoyen            AUTOMÁTICA   \n",
       "2  Av. Hipólito Yrigoyen y Virrey Ceballos            AUTOMÁTICA   \n",
       "\n",
       "                 observaciones_estacion_destino  \\\n",
       "0  Abril 2015 (pasó de ser Manual a Automática)   \n",
       "1  Abril 2015 (pasó de ser Manual a Automática)   \n",
       "2  Abril 2015 (pasó de ser Manual a Automática)   \n",
       "\n",
       "                           horario_estacion_destino  \n",
       "0  Estación automática: disponibilidad las 24 horas  \n",
       "1  Estación automática: disponibilidad las 24 horas  \n",
       "2  Estación automática: disponibilidad las 24 horas  "
      ],
      "text/html": "<div>\n<style scoped>\n    .dataframe tbody tr th:only-of-type {\n        vertical-align: middle;\n    }\n\n    .dataframe tbody tr th {\n        vertical-align: top;\n    }\n\n    .dataframe thead th {\n        text-align: right;\n    }\n</style>\n<table border=\"1\" class=\"dataframe\">\n  <thead>\n    <tr style=\"text-align: right;\">\n      <th></th>\n      <th>id_usuario</th>\n      <th>origen_recorrido_fecha</th>\n      <th>id_estacion_origen</th>\n      <th>nombre_estacion_origen</th>\n      <th>long_estacion_origen</th>\n      <th>lat_estacion_origen</th>\n      <th>domicilio_estacion_origen</th>\n      <th>tipo_estacion_origen</th>\n      <th>observaciones_estacion_origen</th>\n      <th>horario_estacion_origen</th>\n      <th>duracion_recorrido</th>\n      <th>destino_recorrido_fecha</th>\n      <th>id_estacion_destino</th>\n      <th>nombre_estacion_destino</th>\n      <th>long_estacion_destino</th>\n      <th>lat_estacion_destino</th>\n      <th>domicilio_estacion_destino</th>\n      <th>tipo_estacion_destino</th>\n      <th>observaciones_estacion_destino</th>\n      <th>horario_estacion_destino</th>\n    </tr>\n  </thead>\n  <tbody>\n    <tr>\n      <th>0</th>\n      <td>36680</td>\n      <td>2014-01-02 08:03:44.437</td>\n      <td>13.0</td>\n      <td>Once</td>\n      <td>-58.406599</td>\n      <td>-34.609622</td>\n      <td>Plaza Miserere</td>\n      <td>AUTOMÁTICA</td>\n      <td>Abril 2015 (pasó de ser Manual a Automática)</td>\n      <td>Estación automática: disponibilidad las 24 horas</td>\n      <td>0 days 00:17:06.466000000</td>\n      <td>2014-01-02 08:20:50.903</td>\n      <td>23.0</td>\n      <td>Suipacha</td>\n      <td>-58.379566</td>\n      <td>-34.600296</td>\n      <td>Suipacha y Viamonte</td>\n      <td>AUTOMÁTICA</td>\n      <td>Abril 2015 (pasó de ser Manual a Automática)</td>\n      <td>Estación automática: disponibilidad las 24 horas</td>\n    </tr>\n    <tr>\n      <th>1</th>\n      <td>36680</td>\n      <td>2014-01-02 08:33:59.873</td>\n      <td>23.0</td>\n      <td>Suipacha</td>\n      <td>-58.379566</td>\n      <td>-34.600296</td>\n      <td>Suipacha y Viamonte</td>\n      <td>AUTOMÁTICA</td>\n      <td>Abril 2015 (pasó de ser Manual a Automática)</td>\n      <td>Estación automática: disponibilidad las 24 horas</td>\n      <td>0 days 00:11:24.110000000</td>\n      <td>2014-01-02 08:45:23.983</td>\n      <td>24.0</td>\n      <td>Alsina</td>\n      <td>-58.380767</td>\n      <td>-34.610572</td>\n      <td>Adolfo Alsina y Bernardo de Irigoyen</td>\n      <td>AUTOMÁTICA</td>\n      <td>Abril 2015 (pasó de ser Manual a Automática)</td>\n      <td>Estación automática: disponibilidad las 24 horas</td>\n    </tr>\n    <tr>\n      <th>2</th>\n      <td>91345</td>\n      <td>2014-01-02 08:43:09.263</td>\n      <td>8.0</td>\n      <td>Congreso</td>\n      <td>-58.389253</td>\n      <td>-34.609930</td>\n      <td>Av. Hipólito Yrigoyen y Virrey Ceballos</td>\n      <td>AUTOMÁTICA</td>\n      <td>Abril 2015 (pasó de ser Manual a Automática)</td>\n      <td>Estación automática: disponibilidad las 24 horas</td>\n      <td>0 days 00:47:02.780000000</td>\n      <td>2014-01-02 09:30:12.043</td>\n      <td>8.0</td>\n      <td>Congreso</td>\n      <td>-58.389253</td>\n      <td>-34.609930</td>\n      <td>Av. Hipólito Yrigoyen y Virrey Ceballos</td>\n      <td>AUTOMÁTICA</td>\n      <td>Abril 2015 (pasó de ser Manual a Automática)</td>\n      <td>Estación automática: disponibilidad las 24 horas</td>\n    </tr>\n  </tbody>\n</table>\n</div>"
     },
     "metadata": {},
     "execution_count": 36
    }
   ],
   "source": [
    "pd.read_csv(\"data/recorridos-realizados-2014.csv\").head(3)"
   ]
  },
  {
   "cell_type": "code",
   "execution_count": 37,
   "metadata": {},
   "outputs": [
    {
     "output_type": "execute_result",
     "data": {
      "text/plain": [
       "   periodo genero_usuario fecha_origen_recorrido  id_estacion_origen  \\\n",
       "0     2015              M    2015-05-01 00:00:18                  25   \n",
       "1     2015              F    2015-05-01 00:02:06                  17   \n",
       "2     2015              M    2015-05-01 00:02:53                  17   \n",
       "\n",
       "  nombre_estacion_origen  long_estacion_origen  lat_estacion_origen  \\\n",
       "0           Plaza Güemes            -58.416065           -34.589521   \n",
       "1          Plaza Almagro            -58.418832           -34.606399   \n",
       "2          Plaza Almagro            -58.418832           -34.606399   \n",
       "\n",
       "      domicilio_estacion_origen         duracion_recorrido  \\\n",
       "0  Salguero Jerónimo y Mansilla  0 days 00:26:24.000000000   \n",
       "1                 Plaza Almagro  0 days 00:57:53.000000000   \n",
       "2                 Plaza Almagro  0 days 01:03:08.000000000   \n",
       "\n",
       "  fecha_destino_recorrido  id_estacion_destino nombre_estacion_destino  \\\n",
       "0     2015-05-01 00:26:42                   29       Parque Centenario   \n",
       "1     2015-05-01 00:59:59                   25            Plaza Güemes   \n",
       "2     2015-05-01 01:06:01                   25            Plaza Güemes   \n",
       "\n",
       "   long_estacion_destino  lat_estacion_destino  \\\n",
       "0             -58.434577            -34.608459   \n",
       "1             -58.416065            -34.589521   \n",
       "2             -58.416065            -34.589521   \n",
       "\n",
       "             domicilio_estacion_destino  \n",
       "0  Patricias Argentinas y Carlos Finlay  \n",
       "1          Salguero Jerónimo y Mansilla  \n",
       "2          Salguero Jerónimo y Mansilla  "
      ],
      "text/html": "<div>\n<style scoped>\n    .dataframe tbody tr th:only-of-type {\n        vertical-align: middle;\n    }\n\n    .dataframe tbody tr th {\n        vertical-align: top;\n    }\n\n    .dataframe thead th {\n        text-align: right;\n    }\n</style>\n<table border=\"1\" class=\"dataframe\">\n  <thead>\n    <tr style=\"text-align: right;\">\n      <th></th>\n      <th>periodo</th>\n      <th>genero_usuario</th>\n      <th>fecha_origen_recorrido</th>\n      <th>id_estacion_origen</th>\n      <th>nombre_estacion_origen</th>\n      <th>long_estacion_origen</th>\n      <th>lat_estacion_origen</th>\n      <th>domicilio_estacion_origen</th>\n      <th>duracion_recorrido</th>\n      <th>fecha_destino_recorrido</th>\n      <th>id_estacion_destino</th>\n      <th>nombre_estacion_destino</th>\n      <th>long_estacion_destino</th>\n      <th>lat_estacion_destino</th>\n      <th>domicilio_estacion_destino</th>\n    </tr>\n  </thead>\n  <tbody>\n    <tr>\n      <th>0</th>\n      <td>2015</td>\n      <td>M</td>\n      <td>2015-05-01 00:00:18</td>\n      <td>25</td>\n      <td>Plaza Güemes</td>\n      <td>-58.416065</td>\n      <td>-34.589521</td>\n      <td>Salguero Jerónimo y Mansilla</td>\n      <td>0 days 00:26:24.000000000</td>\n      <td>2015-05-01 00:26:42</td>\n      <td>29</td>\n      <td>Parque Centenario</td>\n      <td>-58.434577</td>\n      <td>-34.608459</td>\n      <td>Patricias Argentinas y Carlos Finlay</td>\n    </tr>\n    <tr>\n      <th>1</th>\n      <td>2015</td>\n      <td>F</td>\n      <td>2015-05-01 00:02:06</td>\n      <td>17</td>\n      <td>Plaza Almagro</td>\n      <td>-58.418832</td>\n      <td>-34.606399</td>\n      <td>Plaza Almagro</td>\n      <td>0 days 00:57:53.000000000</td>\n      <td>2015-05-01 00:59:59</td>\n      <td>25</td>\n      <td>Plaza Güemes</td>\n      <td>-58.416065</td>\n      <td>-34.589521</td>\n      <td>Salguero Jerónimo y Mansilla</td>\n    </tr>\n    <tr>\n      <th>2</th>\n      <td>2015</td>\n      <td>M</td>\n      <td>2015-05-01 00:02:53</td>\n      <td>17</td>\n      <td>Plaza Almagro</td>\n      <td>-58.418832</td>\n      <td>-34.606399</td>\n      <td>Plaza Almagro</td>\n      <td>0 days 01:03:08.000000000</td>\n      <td>2015-05-01 01:06:01</td>\n      <td>25</td>\n      <td>Plaza Güemes</td>\n      <td>-58.416065</td>\n      <td>-34.589521</td>\n      <td>Salguero Jerónimo y Mansilla</td>\n    </tr>\n  </tbody>\n</table>\n</div>"
     },
     "metadata": {},
     "execution_count": 37
    }
   ],
   "source": [
    "pd.read_csv(\"data/recorridos-realizados-2015.csv\").head(3)"
   ]
  },
  {
   "cell_type": "code",
   "execution_count": 38,
   "metadata": {},
   "outputs": [
    {
     "output_type": "execute_result",
     "data": {
      "text/plain": [
       "   periodo genero_usuario fecha_origen_recorrido  id_estacion_origen  \\\n",
       "0     2016              M    2016-01-01 02:21:41                  11   \n",
       "1     2016              M    2016-01-01 08:38:19                  28   \n",
       "2     2016              M    2016-01-01 15:01:07                  28   \n",
       "\n",
       "  nombre_estacion_origen  long_estacion_origen  lat_estacion_origen  \\\n",
       "0             Tribunales            -58.385022           -34.601313   \n",
       "1            Plaza Boedo            -58.412398           -34.622850   \n",
       "2            Plaza Boedo            -58.412398           -34.622850   \n",
       "\n",
       "                           domicilio_estacion_origen  \\\n",
       "0                                         Tribunales   \n",
       "1  Carlos Calvo entre Virrey Liniers y Sánchez de...   \n",
       "2  Carlos Calvo entre Virrey Liniers y Sánchez de...   \n",
       "\n",
       "          duracion_recorrido fecha_destino_recorrido  id_estacion_destino  \\\n",
       "0  0 days 00:16:29.000000000     2016-01-01 02:48:05                    5   \n",
       "1  0 days 00:55:26.000000000     2016-01-01 09:36:12                   28   \n",
       "2  0 days 00:40:27.000000000     2016-01-01 16:04:15                   30   \n",
       "\n",
       "  nombre_estacion_destino  long_estacion_destino  lat_estacion_destino  \\\n",
       "0            Plaza Italia             -58.420997            -34.580127   \n",
       "1             Plaza Boedo             -58.412398            -34.622850   \n",
       "2                    Peña             -58.397378            -34.590394   \n",
       "\n",
       "                          domicilio_estacion_destino  \n",
       "0                       Av. Santa Fe y Av. Sarmiento  \n",
       "1  Carlos Calvo entre Virrey Liniers y Sánchez de...  \n",
       "2                                   Azcuénaga y Peña  "
      ],
      "text/html": "<div>\n<style scoped>\n    .dataframe tbody tr th:only-of-type {\n        vertical-align: middle;\n    }\n\n    .dataframe tbody tr th {\n        vertical-align: top;\n    }\n\n    .dataframe thead th {\n        text-align: right;\n    }\n</style>\n<table border=\"1\" class=\"dataframe\">\n  <thead>\n    <tr style=\"text-align: right;\">\n      <th></th>\n      <th>periodo</th>\n      <th>genero_usuario</th>\n      <th>fecha_origen_recorrido</th>\n      <th>id_estacion_origen</th>\n      <th>nombre_estacion_origen</th>\n      <th>long_estacion_origen</th>\n      <th>lat_estacion_origen</th>\n      <th>domicilio_estacion_origen</th>\n      <th>duracion_recorrido</th>\n      <th>fecha_destino_recorrido</th>\n      <th>id_estacion_destino</th>\n      <th>nombre_estacion_destino</th>\n      <th>long_estacion_destino</th>\n      <th>lat_estacion_destino</th>\n      <th>domicilio_estacion_destino</th>\n    </tr>\n  </thead>\n  <tbody>\n    <tr>\n      <th>0</th>\n      <td>2016</td>\n      <td>M</td>\n      <td>2016-01-01 02:21:41</td>\n      <td>11</td>\n      <td>Tribunales</td>\n      <td>-58.385022</td>\n      <td>-34.601313</td>\n      <td>Tribunales</td>\n      <td>0 days 00:16:29.000000000</td>\n      <td>2016-01-01 02:48:05</td>\n      <td>5</td>\n      <td>Plaza Italia</td>\n      <td>-58.420997</td>\n      <td>-34.580127</td>\n      <td>Av. Santa Fe y Av. Sarmiento</td>\n    </tr>\n    <tr>\n      <th>1</th>\n      <td>2016</td>\n      <td>M</td>\n      <td>2016-01-01 08:38:19</td>\n      <td>28</td>\n      <td>Plaza Boedo</td>\n      <td>-58.412398</td>\n      <td>-34.622850</td>\n      <td>Carlos Calvo entre Virrey Liniers y Sánchez de...</td>\n      <td>0 days 00:55:26.000000000</td>\n      <td>2016-01-01 09:36:12</td>\n      <td>28</td>\n      <td>Plaza Boedo</td>\n      <td>-58.412398</td>\n      <td>-34.622850</td>\n      <td>Carlos Calvo entre Virrey Liniers y Sánchez de...</td>\n    </tr>\n    <tr>\n      <th>2</th>\n      <td>2016</td>\n      <td>M</td>\n      <td>2016-01-01 15:01:07</td>\n      <td>28</td>\n      <td>Plaza Boedo</td>\n      <td>-58.412398</td>\n      <td>-34.622850</td>\n      <td>Carlos Calvo entre Virrey Liniers y Sánchez de...</td>\n      <td>0 days 00:40:27.000000000</td>\n      <td>2016-01-01 16:04:15</td>\n      <td>30</td>\n      <td>Peña</td>\n      <td>-58.397378</td>\n      <td>-34.590394</td>\n      <td>Azcuénaga y Peña</td>\n    </tr>\n  </tbody>\n</table>\n</div>"
     },
     "metadata": {},
     "execution_count": 38
    }
   ],
   "source": [
    "pd.read_csv(\"data/recorridos-realizados-2016.csv\").head(3)"
   ]
  },
  {
   "cell_type": "code",
   "execution_count": 39,
   "metadata": {},
   "outputs": [
    {
     "output_type": "execute_result",
     "data": {
      "text/plain": [
       "   periodo genero_usuario fecha_origen_recorrido  id_estacion_origen  \\\n",
       "0     2017              M    2017-01-01 00:02:14                60.0   \n",
       "1     2017              M    2017-01-01 00:02:59                79.0   \n",
       "2     2017              M    2017-01-01 00:07:13                11.0   \n",
       "\n",
       "  nombre_estacion_origen  long_estacion_origen  lat_estacion_origen  \\\n",
       "0             25 de Mayo            -58.371155           -34.601638   \n",
       "1      Azucena Villaflor            -58.363969           -34.611721   \n",
       "2             Tribunales            -58.385022           -34.601313   \n",
       "\n",
       "              domicilio_estacion_origen         duracion_recorrido  \\\n",
       "0                  25 de Mayo y Lavalle  0 days 00:27:44.000000000   \n",
       "1  Azucena Villaflor y Pierina Dealessi  0 days 01:57:21.000000000   \n",
       "2                            Tribunales  0 days 00:25:08.000000000   \n",
       "\n",
       "  fecha_destino_recorrido  id_estacion_destino nombre_estacion_destino  \\\n",
       "0     2017-01-01 00:28:38                  4.0              Plaza Roma   \n",
       "1     2017-01-01 01:00:52                 54.0       Acuña de Figueroa   \n",
       "2     2017-01-01 01:10:21                 84.0                 Lavalle   \n",
       "\n",
       "   long_estacion_destino  lat_estacion_destino  \\\n",
       "0             -58.368950            -34.601721   \n",
       "1             -58.421705            -34.598222   \n",
       "2             -58.395472            -34.602290   \n",
       "\n",
       "             domicilio_estacion_destino  \n",
       "0                    Lavalle y Bouchard  \n",
       "1           Lavalle y Acuña de Figueroa  \n",
       "2  Ayacucho 595 entre Tucumán y Lavalle  "
      ],
      "text/html": "<div>\n<style scoped>\n    .dataframe tbody tr th:only-of-type {\n        vertical-align: middle;\n    }\n\n    .dataframe tbody tr th {\n        vertical-align: top;\n    }\n\n    .dataframe thead th {\n        text-align: right;\n    }\n</style>\n<table border=\"1\" class=\"dataframe\">\n  <thead>\n    <tr style=\"text-align: right;\">\n      <th></th>\n      <th>periodo</th>\n      <th>genero_usuario</th>\n      <th>fecha_origen_recorrido</th>\n      <th>id_estacion_origen</th>\n      <th>nombre_estacion_origen</th>\n      <th>long_estacion_origen</th>\n      <th>lat_estacion_origen</th>\n      <th>domicilio_estacion_origen</th>\n      <th>duracion_recorrido</th>\n      <th>fecha_destino_recorrido</th>\n      <th>id_estacion_destino</th>\n      <th>nombre_estacion_destino</th>\n      <th>long_estacion_destino</th>\n      <th>lat_estacion_destino</th>\n      <th>domicilio_estacion_destino</th>\n    </tr>\n  </thead>\n  <tbody>\n    <tr>\n      <th>0</th>\n      <td>2017</td>\n      <td>M</td>\n      <td>2017-01-01 00:02:14</td>\n      <td>60.0</td>\n      <td>25 de Mayo</td>\n      <td>-58.371155</td>\n      <td>-34.601638</td>\n      <td>25 de Mayo y Lavalle</td>\n      <td>0 days 00:27:44.000000000</td>\n      <td>2017-01-01 00:28:38</td>\n      <td>4.0</td>\n      <td>Plaza Roma</td>\n      <td>-58.368950</td>\n      <td>-34.601721</td>\n      <td>Lavalle y Bouchard</td>\n    </tr>\n    <tr>\n      <th>1</th>\n      <td>2017</td>\n      <td>M</td>\n      <td>2017-01-01 00:02:59</td>\n      <td>79.0</td>\n      <td>Azucena Villaflor</td>\n      <td>-58.363969</td>\n      <td>-34.611721</td>\n      <td>Azucena Villaflor y Pierina Dealessi</td>\n      <td>0 days 01:57:21.000000000</td>\n      <td>2017-01-01 01:00:52</td>\n      <td>54.0</td>\n      <td>Acuña de Figueroa</td>\n      <td>-58.421705</td>\n      <td>-34.598222</td>\n      <td>Lavalle y Acuña de Figueroa</td>\n    </tr>\n    <tr>\n      <th>2</th>\n      <td>2017</td>\n      <td>M</td>\n      <td>2017-01-01 00:07:13</td>\n      <td>11.0</td>\n      <td>Tribunales</td>\n      <td>-58.385022</td>\n      <td>-34.601313</td>\n      <td>Tribunales</td>\n      <td>0 days 00:25:08.000000000</td>\n      <td>2017-01-01 01:10:21</td>\n      <td>84.0</td>\n      <td>Lavalle</td>\n      <td>-58.395472</td>\n      <td>-34.602290</td>\n      <td>Ayacucho 595 entre Tucumán y Lavalle</td>\n    </tr>\n  </tbody>\n</table>\n</div>"
     },
     "metadata": {},
     "execution_count": 39
    }
   ],
   "source": [
    "pd.read_csv(\"data/recorridos-realizados-2017.csv\").head(3)"
   ]
  },
  {
   "cell_type": "code",
   "execution_count": 40,
   "metadata": {},
   "outputs": [
    {
     "output_type": "execute_result",
     "data": {
      "text/plain": [
       "   id_usuario genero_usuario fecha_origen_recorrido  id_estacion_origen  \\\n",
       "0        5453              M    2018-01-01 00:08:05                45.0   \n",
       "1         673              M    2018-01-01 00:18:05               189.0   \n",
       "2      179119              F    2018-01-01 00:20:14                50.0   \n",
       "\n",
       "  nombre_estacion_origen  long_estacion_origen  lat_estacion_origen  \\\n",
       "0                Uruguay            -58.386913           -34.601616   \n",
       "1                Posadas            -58.385586           -34.588475   \n",
       "2     Hospital Rivadavia            -58.401148           -34.583677   \n",
       "\n",
       "                        domicilio_estacion_origen         duracion_recorrido  \\\n",
       "0                               Tucumán y Uruguay  0 days 00:19:53.000000000   \n",
       "1  Posadas 1350 entre Montevideo y Rodríguez Peña  0 days 00:26:19.000000000   \n",
       "2    Lucena Pereyra 2516 entre Las Heras y Pagano  0 days 00:27:39.000000000   \n",
       "\n",
       "  fecha_destino_recorrido  id_estacion_destino nombre_estacion_destino  \\\n",
       "0     2018-01-01 00:27:58                183.0         Virrey Cevallos   \n",
       "1     2018-01-01 00:44:24                110.0           Guardia Vieja   \n",
       "2     2018-01-01 00:47:53                 31.0                 Padilla   \n",
       "\n",
       "   long_estacion_destino  lat_estacion_destino  \\\n",
       "0             -58.389692            -34.615638   \n",
       "1             -58.415459            -34.601761   \n",
       "2             -58.439709            -34.603162   \n",
       "\n",
       "                          domicilio_estacion_destino  \n",
       "0          México 1652 entre Virrey Cevallos y Solís  \n",
       "1  Guardia Vieja 3606 entre Billinghurst y Mario ...  \n",
       "2                                Padilla y Warnes Av  "
      ],
      "text/html": "<div>\n<style scoped>\n    .dataframe tbody tr th:only-of-type {\n        vertical-align: middle;\n    }\n\n    .dataframe tbody tr th {\n        vertical-align: top;\n    }\n\n    .dataframe thead th {\n        text-align: right;\n    }\n</style>\n<table border=\"1\" class=\"dataframe\">\n  <thead>\n    <tr style=\"text-align: right;\">\n      <th></th>\n      <th>id_usuario</th>\n      <th>genero_usuario</th>\n      <th>fecha_origen_recorrido</th>\n      <th>id_estacion_origen</th>\n      <th>nombre_estacion_origen</th>\n      <th>long_estacion_origen</th>\n      <th>lat_estacion_origen</th>\n      <th>domicilio_estacion_origen</th>\n      <th>duracion_recorrido</th>\n      <th>fecha_destino_recorrido</th>\n      <th>id_estacion_destino</th>\n      <th>nombre_estacion_destino</th>\n      <th>long_estacion_destino</th>\n      <th>lat_estacion_destino</th>\n      <th>domicilio_estacion_destino</th>\n    </tr>\n  </thead>\n  <tbody>\n    <tr>\n      <th>0</th>\n      <td>5453</td>\n      <td>M</td>\n      <td>2018-01-01 00:08:05</td>\n      <td>45.0</td>\n      <td>Uruguay</td>\n      <td>-58.386913</td>\n      <td>-34.601616</td>\n      <td>Tucumán y Uruguay</td>\n      <td>0 days 00:19:53.000000000</td>\n      <td>2018-01-01 00:27:58</td>\n      <td>183.0</td>\n      <td>Virrey Cevallos</td>\n      <td>-58.389692</td>\n      <td>-34.615638</td>\n      <td>México 1652 entre Virrey Cevallos y Solís</td>\n    </tr>\n    <tr>\n      <th>1</th>\n      <td>673</td>\n      <td>M</td>\n      <td>2018-01-01 00:18:05</td>\n      <td>189.0</td>\n      <td>Posadas</td>\n      <td>-58.385586</td>\n      <td>-34.588475</td>\n      <td>Posadas 1350 entre Montevideo y Rodríguez Peña</td>\n      <td>0 days 00:26:19.000000000</td>\n      <td>2018-01-01 00:44:24</td>\n      <td>110.0</td>\n      <td>Guardia Vieja</td>\n      <td>-58.415459</td>\n      <td>-34.601761</td>\n      <td>Guardia Vieja 3606 entre Billinghurst y Mario ...</td>\n    </tr>\n    <tr>\n      <th>2</th>\n      <td>179119</td>\n      <td>F</td>\n      <td>2018-01-01 00:20:14</td>\n      <td>50.0</td>\n      <td>Hospital Rivadavia</td>\n      <td>-58.401148</td>\n      <td>-34.583677</td>\n      <td>Lucena Pereyra 2516 entre Las Heras y Pagano</td>\n      <td>0 days 00:27:39.000000000</td>\n      <td>2018-01-01 00:47:53</td>\n      <td>31.0</td>\n      <td>Padilla</td>\n      <td>-58.439709</td>\n      <td>-34.603162</td>\n      <td>Padilla y Warnes Av</td>\n    </tr>\n  </tbody>\n</table>\n</div>"
     },
     "metadata": {},
     "execution_count": 40
    }
   ],
   "source": [
    "pd.read_csv(\"data/recorridos-realizados-2018.csv\").head(3)"
   ]
  },
  {
   "cell_type": "markdown",
   "metadata": {},
   "source": [
    "### Le sacamos el Id al de 2013"
   ]
  },
  {
   "cell_type": "code",
   "execution_count": 41,
   "metadata": {},
   "outputs": [],
   "source": [
    "df_2013 = pd.read_csv(\"data/recorridos-realizados-2013.csv\")"
   ]
  },
  {
   "cell_type": "markdown",
   "metadata": {},
   "source": [
    "### Agregamos columna período al CSV de 2014"
   ]
  },
  {
   "cell_type": "code",
   "execution_count": 42,
   "metadata": {},
   "outputs": [],
   "source": [
    "df_2014 = pd.read_csv(\"data/recorridos-realizados-2014.csv\")"
   ]
  },
  {
   "cell_type": "code",
   "execution_count": 43,
   "metadata": {},
   "outputs": [],
   "source": [
    "df_2014['periodo'] = 2014"
   ]
  },
  {
   "cell_type": "code",
   "execution_count": 44,
   "metadata": {},
   "outputs": [
    {
     "output_type": "execute_result",
     "data": {
      "text/plain": [
       "Index(['id_usuario', 'origen_recorrido_fecha', 'id_estacion_origen',\n",
       "       'nombre_estacion_origen', 'long_estacion_origen', 'lat_estacion_origen',\n",
       "       'domicilio_estacion_origen', 'tipo_estacion_origen',\n",
       "       'observaciones_estacion_origen', 'horario_estacion_origen',\n",
       "       'duracion_recorrido', 'destino_recorrido_fecha', 'id_estacion_destino',\n",
       "       'nombre_estacion_destino', 'long_estacion_destino',\n",
       "       'lat_estacion_destino', 'domicilio_estacion_destino',\n",
       "       'tipo_estacion_destino', 'observaciones_estacion_destino',\n",
       "       'horario_estacion_destino', 'periodo'],\n",
       "      dtype='object')"
      ]
     },
     "metadata": {},
     "execution_count": 44
    }
   ],
   "source": [
    "df_2014.columns"
   ]
  },
  {
   "cell_type": "code",
   "execution_count": 45,
   "metadata": {},
   "outputs": [],
   "source": [
    "df_2014 = df_2014[['periodo', 'origen_recorrido_fecha', 'id_estacion_origen',\n",
    "       'nombre_estacion_origen', 'long_estacion_origen', 'lat_estacion_origen',\n",
    "       'domicilio_estacion_origen', 'duracion_recorrido',\n",
    "       'destino_recorrido_fecha', 'id_estacion_destino',\n",
    "       'nombre_estacion_destino', 'long_estacion_destino',\n",
    "       'lat_estacion_destino', 'domicilio_estacion_destino']]"
   ]
  },
  {
   "cell_type": "code",
   "execution_count": 46,
   "metadata": {},
   "outputs": [],
   "source": [
    "df_2014 = df_2014.rename(columns={\"origen_recorrido_fecha\": \"fecha_origen_recorrido\", \"destino_recorrido_fecha\": \"fecha_destino_recorrido\"}, errors=\"raise\")"
   ]
  },
  {
   "cell_type": "code",
   "execution_count": 47,
   "metadata": {},
   "outputs": [
    {
     "output_type": "execute_result",
     "data": {
      "text/plain": [
       "Index(['periodo', 'fecha_origen_recorrido', 'id_estacion_origen',\n",
       "       'nombre_estacion_origen', 'long_estacion_origen', 'lat_estacion_origen',\n",
       "       'domicilio_estacion_origen', 'duracion_recorrido',\n",
       "       'fecha_destino_recorrido', 'id_estacion_destino',\n",
       "       'nombre_estacion_destino', 'long_estacion_destino',\n",
       "       'lat_estacion_destino', 'domicilio_estacion_destino'],\n",
       "      dtype='object')"
      ]
     },
     "metadata": {},
     "execution_count": 47
    }
   ],
   "source": [
    "df_2014.columns"
   ]
  },
  {
   "cell_type": "code",
   "execution_count": 48,
   "metadata": {},
   "outputs": [
    {
     "output_type": "execute_result",
     "data": {
      "text/plain": [
       "   periodo   fecha_origen_recorrido  id_estacion_origen  \\\n",
       "0     2014  2014-01-02 08:03:44.437                13.0   \n",
       "1     2014  2014-01-02 08:33:59.873                23.0   \n",
       "2     2014  2014-01-02 08:43:09.263                 8.0   \n",
       "\n",
       "  nombre_estacion_origen  long_estacion_origen  lat_estacion_origen  \\\n",
       "0                   Once            -58.406599           -34.609622   \n",
       "1               Suipacha            -58.379566           -34.600296   \n",
       "2               Congreso            -58.389253           -34.609930   \n",
       "\n",
       "                 domicilio_estacion_origen         duracion_recorrido  \\\n",
       "0                           Plaza Miserere  0 days 00:17:06.466000000   \n",
       "1                      Suipacha y Viamonte  0 days 00:11:24.110000000   \n",
       "2  Av. Hipólito Yrigoyen y Virrey Ceballos  0 days 00:47:02.780000000   \n",
       "\n",
       "   fecha_destino_recorrido  id_estacion_destino nombre_estacion_destino  \\\n",
       "0  2014-01-02 08:20:50.903                 23.0                Suipacha   \n",
       "1  2014-01-02 08:45:23.983                 24.0                  Alsina   \n",
       "2  2014-01-02 09:30:12.043                  8.0                Congreso   \n",
       "\n",
       "   long_estacion_destino  lat_estacion_destino  \\\n",
       "0             -58.379566            -34.600296   \n",
       "1             -58.380767            -34.610572   \n",
       "2             -58.389253            -34.609930   \n",
       "\n",
       "                domicilio_estacion_destino  \n",
       "0                      Suipacha y Viamonte  \n",
       "1     Adolfo Alsina y Bernardo de Irigoyen  \n",
       "2  Av. Hipólito Yrigoyen y Virrey Ceballos  "
      ],
      "text/html": "<div>\n<style scoped>\n    .dataframe tbody tr th:only-of-type {\n        vertical-align: middle;\n    }\n\n    .dataframe tbody tr th {\n        vertical-align: top;\n    }\n\n    .dataframe thead th {\n        text-align: right;\n    }\n</style>\n<table border=\"1\" class=\"dataframe\">\n  <thead>\n    <tr style=\"text-align: right;\">\n      <th></th>\n      <th>periodo</th>\n      <th>fecha_origen_recorrido</th>\n      <th>id_estacion_origen</th>\n      <th>nombre_estacion_origen</th>\n      <th>long_estacion_origen</th>\n      <th>lat_estacion_origen</th>\n      <th>domicilio_estacion_origen</th>\n      <th>duracion_recorrido</th>\n      <th>fecha_destino_recorrido</th>\n      <th>id_estacion_destino</th>\n      <th>nombre_estacion_destino</th>\n      <th>long_estacion_destino</th>\n      <th>lat_estacion_destino</th>\n      <th>domicilio_estacion_destino</th>\n    </tr>\n  </thead>\n  <tbody>\n    <tr>\n      <th>0</th>\n      <td>2014</td>\n      <td>2014-01-02 08:03:44.437</td>\n      <td>13.0</td>\n      <td>Once</td>\n      <td>-58.406599</td>\n      <td>-34.609622</td>\n      <td>Plaza Miserere</td>\n      <td>0 days 00:17:06.466000000</td>\n      <td>2014-01-02 08:20:50.903</td>\n      <td>23.0</td>\n      <td>Suipacha</td>\n      <td>-58.379566</td>\n      <td>-34.600296</td>\n      <td>Suipacha y Viamonte</td>\n    </tr>\n    <tr>\n      <th>1</th>\n      <td>2014</td>\n      <td>2014-01-02 08:33:59.873</td>\n      <td>23.0</td>\n      <td>Suipacha</td>\n      <td>-58.379566</td>\n      <td>-34.600296</td>\n      <td>Suipacha y Viamonte</td>\n      <td>0 days 00:11:24.110000000</td>\n      <td>2014-01-02 08:45:23.983</td>\n      <td>24.0</td>\n      <td>Alsina</td>\n      <td>-58.380767</td>\n      <td>-34.610572</td>\n      <td>Adolfo Alsina y Bernardo de Irigoyen</td>\n    </tr>\n    <tr>\n      <th>2</th>\n      <td>2014</td>\n      <td>2014-01-02 08:43:09.263</td>\n      <td>8.0</td>\n      <td>Congreso</td>\n      <td>-58.389253</td>\n      <td>-34.609930</td>\n      <td>Av. Hipólito Yrigoyen y Virrey Ceballos</td>\n      <td>0 days 00:47:02.780000000</td>\n      <td>2014-01-02 09:30:12.043</td>\n      <td>8.0</td>\n      <td>Congreso</td>\n      <td>-58.389253</td>\n      <td>-34.609930</td>\n      <td>Av. Hipólito Yrigoyen y Virrey Ceballos</td>\n    </tr>\n  </tbody>\n</table>\n</div>"
     },
     "metadata": {},
     "execution_count": 48
    }
   ],
   "source": [
    "df_2014.head(3)"
   ]
  },
  {
   "cell_type": "markdown",
   "metadata": {},
   "source": [
    "### Sacamos columna de genero"
   ]
  },
  {
   "cell_type": "code",
   "execution_count": 49,
   "metadata": {},
   "outputs": [],
   "source": [
    "df_2015 = pd.read_csv(\"data/recorridos-realizados-2015.csv\")\n",
    "\n",
    "df_2015 = df_2015[['periodo', 'fecha_origen_recorrido', 'id_estacion_origen',\n",
    "       'nombre_estacion_origen', 'long_estacion_origen', 'lat_estacion_origen',\n",
    "       'domicilio_estacion_origen', 'duracion_recorrido',\n",
    "       'fecha_destino_recorrido', 'id_estacion_destino',\n",
    "       'nombre_estacion_destino', 'long_estacion_destino',\n",
    "       'lat_estacion_destino', 'domicilio_estacion_destino']]"
   ]
  },
  {
   "cell_type": "code",
   "execution_count": 50,
   "metadata": {},
   "outputs": [],
   "source": [
    "df_2016 = pd.read_csv(\"data/recorridos-realizados-2016.csv\")\n",
    "\n",
    "\n",
    "df_2016 = df_2016[['periodo', 'fecha_origen_recorrido', 'id_estacion_origen',\n",
    "       'nombre_estacion_origen', 'long_estacion_origen', 'lat_estacion_origen',\n",
    "       'domicilio_estacion_origen', 'duracion_recorrido',\n",
    "       'fecha_destino_recorrido', 'id_estacion_destino',\n",
    "       'nombre_estacion_destino', 'long_estacion_destino',\n",
    "       'lat_estacion_destino', 'domicilio_estacion_destino']]"
   ]
  },
  {
   "cell_type": "code",
   "execution_count": 51,
   "metadata": {},
   "outputs": [],
   "source": [
    "df_2017 = pd.read_csv(\"data/recorridos-realizados-2017.csv\")\n",
    "\n",
    "df_2017 = df_2017[['periodo', 'fecha_origen_recorrido', 'id_estacion_origen',\n",
    "       'nombre_estacion_origen', 'long_estacion_origen', 'lat_estacion_origen',\n",
    "       'domicilio_estacion_origen', 'duracion_recorrido',\n",
    "       'fecha_destino_recorrido', 'id_estacion_destino',\n",
    "       'nombre_estacion_destino', 'long_estacion_destino',\n",
    "       'lat_estacion_destino', 'domicilio_estacion_destino']]"
   ]
  },
  {
   "cell_type": "markdown",
   "metadata": {},
   "source": [
    "### Agregamos columna periodo CSV de 2018 y lo retocamos"
   ]
  },
  {
   "cell_type": "code",
   "execution_count": 52,
   "metadata": {},
   "outputs": [],
   "source": [
    "df_2018 = pd.read_csv(\"data/recorridos-realizados-2018.csv\")"
   ]
  },
  {
   "cell_type": "code",
   "execution_count": 53,
   "metadata": {},
   "outputs": [],
   "source": [
    "df_2018['periodo'] = 2018\n",
    "\n",
    "df_2018 = df_2018[['periodo', 'fecha_origen_recorrido', 'id_estacion_origen',\n",
    "       'nombre_estacion_origen', 'long_estacion_origen', 'lat_estacion_origen',\n",
    "       'domicilio_estacion_origen', 'duracion_recorrido',\n",
    "       'fecha_destino_recorrido', 'id_estacion_destino',\n",
    "       'nombre_estacion_destino', 'long_estacion_destino',\n",
    "       'lat_estacion_destino', 'domicilio_estacion_destino']]"
   ]
  },
  {
   "cell_type": "code",
   "execution_count": 54,
   "metadata": {},
   "outputs": [
    {
     "output_type": "execute_result",
     "data": {
      "text/plain": [
       "   periodo fecha_origen_recorrido  id_estacion_origen nombre_estacion_origen  \\\n",
       "0     2018    2018-01-01 00:08:05                45.0                Uruguay   \n",
       "1     2018    2018-01-01 00:18:05               189.0                Posadas   \n",
       "2     2018    2018-01-01 00:20:14                50.0     Hospital Rivadavia   \n",
       "\n",
       "   long_estacion_origen  lat_estacion_origen  \\\n",
       "0            -58.386913           -34.601616   \n",
       "1            -58.385586           -34.588475   \n",
       "2            -58.401148           -34.583677   \n",
       "\n",
       "                        domicilio_estacion_origen         duracion_recorrido  \\\n",
       "0                               Tucumán y Uruguay  0 days 00:19:53.000000000   \n",
       "1  Posadas 1350 entre Montevideo y Rodríguez Peña  0 days 00:26:19.000000000   \n",
       "2    Lucena Pereyra 2516 entre Las Heras y Pagano  0 days 00:27:39.000000000   \n",
       "\n",
       "  fecha_destino_recorrido  id_estacion_destino nombre_estacion_destino  \\\n",
       "0     2018-01-01 00:27:58                183.0         Virrey Cevallos   \n",
       "1     2018-01-01 00:44:24                110.0           Guardia Vieja   \n",
       "2     2018-01-01 00:47:53                 31.0                 Padilla   \n",
       "\n",
       "   long_estacion_destino  lat_estacion_destino  \\\n",
       "0             -58.389692            -34.615638   \n",
       "1             -58.415459            -34.601761   \n",
       "2             -58.439709            -34.603162   \n",
       "\n",
       "                          domicilio_estacion_destino  \n",
       "0          México 1652 entre Virrey Cevallos y Solís  \n",
       "1  Guardia Vieja 3606 entre Billinghurst y Mario ...  \n",
       "2                                Padilla y Warnes Av  "
      ],
      "text/html": "<div>\n<style scoped>\n    .dataframe tbody tr th:only-of-type {\n        vertical-align: middle;\n    }\n\n    .dataframe tbody tr th {\n        vertical-align: top;\n    }\n\n    .dataframe thead th {\n        text-align: right;\n    }\n</style>\n<table border=\"1\" class=\"dataframe\">\n  <thead>\n    <tr style=\"text-align: right;\">\n      <th></th>\n      <th>periodo</th>\n      <th>fecha_origen_recorrido</th>\n      <th>id_estacion_origen</th>\n      <th>nombre_estacion_origen</th>\n      <th>long_estacion_origen</th>\n      <th>lat_estacion_origen</th>\n      <th>domicilio_estacion_origen</th>\n      <th>duracion_recorrido</th>\n      <th>fecha_destino_recorrido</th>\n      <th>id_estacion_destino</th>\n      <th>nombre_estacion_destino</th>\n      <th>long_estacion_destino</th>\n      <th>lat_estacion_destino</th>\n      <th>domicilio_estacion_destino</th>\n    </tr>\n  </thead>\n  <tbody>\n    <tr>\n      <th>0</th>\n      <td>2018</td>\n      <td>2018-01-01 00:08:05</td>\n      <td>45.0</td>\n      <td>Uruguay</td>\n      <td>-58.386913</td>\n      <td>-34.601616</td>\n      <td>Tucumán y Uruguay</td>\n      <td>0 days 00:19:53.000000000</td>\n      <td>2018-01-01 00:27:58</td>\n      <td>183.0</td>\n      <td>Virrey Cevallos</td>\n      <td>-58.389692</td>\n      <td>-34.615638</td>\n      <td>México 1652 entre Virrey Cevallos y Solís</td>\n    </tr>\n    <tr>\n      <th>1</th>\n      <td>2018</td>\n      <td>2018-01-01 00:18:05</td>\n      <td>189.0</td>\n      <td>Posadas</td>\n      <td>-58.385586</td>\n      <td>-34.588475</td>\n      <td>Posadas 1350 entre Montevideo y Rodríguez Peña</td>\n      <td>0 days 00:26:19.000000000</td>\n      <td>2018-01-01 00:44:24</td>\n      <td>110.0</td>\n      <td>Guardia Vieja</td>\n      <td>-58.415459</td>\n      <td>-34.601761</td>\n      <td>Guardia Vieja 3606 entre Billinghurst y Mario ...</td>\n    </tr>\n    <tr>\n      <th>2</th>\n      <td>2018</td>\n      <td>2018-01-01 00:20:14</td>\n      <td>50.0</td>\n      <td>Hospital Rivadavia</td>\n      <td>-58.401148</td>\n      <td>-34.583677</td>\n      <td>Lucena Pereyra 2516 entre Las Heras y Pagano</td>\n      <td>0 days 00:27:39.000000000</td>\n      <td>2018-01-01 00:47:53</td>\n      <td>31.0</td>\n      <td>Padilla</td>\n      <td>-58.439709</td>\n      <td>-34.603162</td>\n      <td>Padilla y Warnes Av</td>\n    </tr>\n  </tbody>\n</table>\n</div>"
     },
     "metadata": {},
     "execution_count": 54
    }
   ],
   "source": [
    "df_2018.head(3)"
   ]
  },
  {
   "cell_type": "markdown",
   "metadata": {},
   "source": [
    "### Les hacemos un concat"
   ]
  },
  {
   "cell_type": "code",
   "execution_count": 55,
   "metadata": {},
   "outputs": [],
   "source": [
    "df_2013= pd.read_csv(\"data/recorridos-realizados-2013.csv\")"
   ]
  },
  {
   "cell_type": "code",
   "execution_count": 56,
   "metadata": {},
   "outputs": [
    {
     "output_type": "execute_result",
     "data": {
      "text/plain": [
       "   periodo   fecha_origen_recorrido  id_estacion_origen  \\\n",
       "0     2014  2014-01-02 08:03:44.437                13.0   \n",
       "1     2014  2014-01-02 08:33:59.873                23.0   \n",
       "2     2014  2014-01-02 08:43:09.263                 8.0   \n",
       "\n",
       "  nombre_estacion_origen  long_estacion_origen  lat_estacion_origen  \\\n",
       "0                   Once            -58.406599           -34.609622   \n",
       "1               Suipacha            -58.379566           -34.600296   \n",
       "2               Congreso            -58.389253           -34.609930   \n",
       "\n",
       "                 domicilio_estacion_origen         duracion_recorrido  \\\n",
       "0                           Plaza Miserere  0 days 00:17:06.466000000   \n",
       "1                      Suipacha y Viamonte  0 days 00:11:24.110000000   \n",
       "2  Av. Hipólito Yrigoyen y Virrey Ceballos  0 days 00:47:02.780000000   \n",
       "\n",
       "   fecha_destino_recorrido  id_estacion_destino nombre_estacion_destino  \\\n",
       "0  2014-01-02 08:20:50.903                 23.0                Suipacha   \n",
       "1  2014-01-02 08:45:23.983                 24.0                  Alsina   \n",
       "2  2014-01-02 09:30:12.043                  8.0                Congreso   \n",
       "\n",
       "   long_estacion_destino  lat_estacion_destino  \\\n",
       "0             -58.379566            -34.600296   \n",
       "1             -58.380767            -34.610572   \n",
       "2             -58.389253            -34.609930   \n",
       "\n",
       "                domicilio_estacion_destino  \n",
       "0                      Suipacha y Viamonte  \n",
       "1     Adolfo Alsina y Bernardo de Irigoyen  \n",
       "2  Av. Hipólito Yrigoyen y Virrey Ceballos  "
      ],
      "text/html": "<div>\n<style scoped>\n    .dataframe tbody tr th:only-of-type {\n        vertical-align: middle;\n    }\n\n    .dataframe tbody tr th {\n        vertical-align: top;\n    }\n\n    .dataframe thead th {\n        text-align: right;\n    }\n</style>\n<table border=\"1\" class=\"dataframe\">\n  <thead>\n    <tr style=\"text-align: right;\">\n      <th></th>\n      <th>periodo</th>\n      <th>fecha_origen_recorrido</th>\n      <th>id_estacion_origen</th>\n      <th>nombre_estacion_origen</th>\n      <th>long_estacion_origen</th>\n      <th>lat_estacion_origen</th>\n      <th>domicilio_estacion_origen</th>\n      <th>duracion_recorrido</th>\n      <th>fecha_destino_recorrido</th>\n      <th>id_estacion_destino</th>\n      <th>nombre_estacion_destino</th>\n      <th>long_estacion_destino</th>\n      <th>lat_estacion_destino</th>\n      <th>domicilio_estacion_destino</th>\n    </tr>\n  </thead>\n  <tbody>\n    <tr>\n      <th>0</th>\n      <td>2014</td>\n      <td>2014-01-02 08:03:44.437</td>\n      <td>13.0</td>\n      <td>Once</td>\n      <td>-58.406599</td>\n      <td>-34.609622</td>\n      <td>Plaza Miserere</td>\n      <td>0 days 00:17:06.466000000</td>\n      <td>2014-01-02 08:20:50.903</td>\n      <td>23.0</td>\n      <td>Suipacha</td>\n      <td>-58.379566</td>\n      <td>-34.600296</td>\n      <td>Suipacha y Viamonte</td>\n    </tr>\n    <tr>\n      <th>1</th>\n      <td>2014</td>\n      <td>2014-01-02 08:33:59.873</td>\n      <td>23.0</td>\n      <td>Suipacha</td>\n      <td>-58.379566</td>\n      <td>-34.600296</td>\n      <td>Suipacha y Viamonte</td>\n      <td>0 days 00:11:24.110000000</td>\n      <td>2014-01-02 08:45:23.983</td>\n      <td>24.0</td>\n      <td>Alsina</td>\n      <td>-58.380767</td>\n      <td>-34.610572</td>\n      <td>Adolfo Alsina y Bernardo de Irigoyen</td>\n    </tr>\n    <tr>\n      <th>2</th>\n      <td>2014</td>\n      <td>2014-01-02 08:43:09.263</td>\n      <td>8.0</td>\n      <td>Congreso</td>\n      <td>-58.389253</td>\n      <td>-34.609930</td>\n      <td>Av. Hipólito Yrigoyen y Virrey Ceballos</td>\n      <td>0 days 00:47:02.780000000</td>\n      <td>2014-01-02 09:30:12.043</td>\n      <td>8.0</td>\n      <td>Congreso</td>\n      <td>-58.389253</td>\n      <td>-34.609930</td>\n      <td>Av. Hipólito Yrigoyen y Virrey Ceballos</td>\n    </tr>\n  </tbody>\n</table>\n</div>"
     },
     "metadata": {},
     "execution_count": 56
    }
   ],
   "source": [
    "df_2014.head(3)"
   ]
  },
  {
   "cell_type": "code",
   "execution_count": 57,
   "metadata": {},
   "outputs": [
    {
     "output_type": "execute_result",
     "data": {
      "text/plain": [
       "   periodo fecha_origen_recorrido  id_estacion_origen nombre_estacion_origen  \\\n",
       "0     2015    2015-05-01 00:00:18                  25           Plaza Güemes   \n",
       "1     2015    2015-05-01 00:02:06                  17          Plaza Almagro   \n",
       "2     2015    2015-05-01 00:02:53                  17          Plaza Almagro   \n",
       "\n",
       "   long_estacion_origen  lat_estacion_origen     domicilio_estacion_origen  \\\n",
       "0            -58.416065           -34.589521  Salguero Jerónimo y Mansilla   \n",
       "1            -58.418832           -34.606399                 Plaza Almagro   \n",
       "2            -58.418832           -34.606399                 Plaza Almagro   \n",
       "\n",
       "          duracion_recorrido fecha_destino_recorrido  id_estacion_destino  \\\n",
       "0  0 days 00:26:24.000000000     2015-05-01 00:26:42                   29   \n",
       "1  0 days 00:57:53.000000000     2015-05-01 00:59:59                   25   \n",
       "2  0 days 01:03:08.000000000     2015-05-01 01:06:01                   25   \n",
       "\n",
       "  nombre_estacion_destino  long_estacion_destino  lat_estacion_destino  \\\n",
       "0       Parque Centenario             -58.434577            -34.608459   \n",
       "1            Plaza Güemes             -58.416065            -34.589521   \n",
       "2            Plaza Güemes             -58.416065            -34.589521   \n",
       "\n",
       "             domicilio_estacion_destino  \n",
       "0  Patricias Argentinas y Carlos Finlay  \n",
       "1          Salguero Jerónimo y Mansilla  \n",
       "2          Salguero Jerónimo y Mansilla  "
      ],
      "text/html": "<div>\n<style scoped>\n    .dataframe tbody tr th:only-of-type {\n        vertical-align: middle;\n    }\n\n    .dataframe tbody tr th {\n        vertical-align: top;\n    }\n\n    .dataframe thead th {\n        text-align: right;\n    }\n</style>\n<table border=\"1\" class=\"dataframe\">\n  <thead>\n    <tr style=\"text-align: right;\">\n      <th></th>\n      <th>periodo</th>\n      <th>fecha_origen_recorrido</th>\n      <th>id_estacion_origen</th>\n      <th>nombre_estacion_origen</th>\n      <th>long_estacion_origen</th>\n      <th>lat_estacion_origen</th>\n      <th>domicilio_estacion_origen</th>\n      <th>duracion_recorrido</th>\n      <th>fecha_destino_recorrido</th>\n      <th>id_estacion_destino</th>\n      <th>nombre_estacion_destino</th>\n      <th>long_estacion_destino</th>\n      <th>lat_estacion_destino</th>\n      <th>domicilio_estacion_destino</th>\n    </tr>\n  </thead>\n  <tbody>\n    <tr>\n      <th>0</th>\n      <td>2015</td>\n      <td>2015-05-01 00:00:18</td>\n      <td>25</td>\n      <td>Plaza Güemes</td>\n      <td>-58.416065</td>\n      <td>-34.589521</td>\n      <td>Salguero Jerónimo y Mansilla</td>\n      <td>0 days 00:26:24.000000000</td>\n      <td>2015-05-01 00:26:42</td>\n      <td>29</td>\n      <td>Parque Centenario</td>\n      <td>-58.434577</td>\n      <td>-34.608459</td>\n      <td>Patricias Argentinas y Carlos Finlay</td>\n    </tr>\n    <tr>\n      <th>1</th>\n      <td>2015</td>\n      <td>2015-05-01 00:02:06</td>\n      <td>17</td>\n      <td>Plaza Almagro</td>\n      <td>-58.418832</td>\n      <td>-34.606399</td>\n      <td>Plaza Almagro</td>\n      <td>0 days 00:57:53.000000000</td>\n      <td>2015-05-01 00:59:59</td>\n      <td>25</td>\n      <td>Plaza Güemes</td>\n      <td>-58.416065</td>\n      <td>-34.589521</td>\n      <td>Salguero Jerónimo y Mansilla</td>\n    </tr>\n    <tr>\n      <th>2</th>\n      <td>2015</td>\n      <td>2015-05-01 00:02:53</td>\n      <td>17</td>\n      <td>Plaza Almagro</td>\n      <td>-58.418832</td>\n      <td>-34.606399</td>\n      <td>Plaza Almagro</td>\n      <td>0 days 01:03:08.000000000</td>\n      <td>2015-05-01 01:06:01</td>\n      <td>25</td>\n      <td>Plaza Güemes</td>\n      <td>-58.416065</td>\n      <td>-34.589521</td>\n      <td>Salguero Jerónimo y Mansilla</td>\n    </tr>\n  </tbody>\n</table>\n</div>"
     },
     "metadata": {},
     "execution_count": 57
    }
   ],
   "source": [
    "df_2015.head(3)"
   ]
  },
  {
   "cell_type": "code",
   "execution_count": 58,
   "metadata": {},
   "outputs": [
    {
     "output_type": "execute_result",
     "data": {
      "text/plain": [
       "   periodo fecha_origen_recorrido  id_estacion_origen nombre_estacion_origen  \\\n",
       "0     2016    2016-01-01 02:21:41                  11             Tribunales   \n",
       "1     2016    2016-01-01 08:38:19                  28            Plaza Boedo   \n",
       "2     2016    2016-01-01 15:01:07                  28            Plaza Boedo   \n",
       "\n",
       "   long_estacion_origen  lat_estacion_origen  \\\n",
       "0            -58.385022           -34.601313   \n",
       "1            -58.412398           -34.622850   \n",
       "2            -58.412398           -34.622850   \n",
       "\n",
       "                           domicilio_estacion_origen  \\\n",
       "0                                         Tribunales   \n",
       "1  Carlos Calvo entre Virrey Liniers y Sánchez de...   \n",
       "2  Carlos Calvo entre Virrey Liniers y Sánchez de...   \n",
       "\n",
       "          duracion_recorrido fecha_destino_recorrido  id_estacion_destino  \\\n",
       "0  0 days 00:16:29.000000000     2016-01-01 02:48:05                    5   \n",
       "1  0 days 00:55:26.000000000     2016-01-01 09:36:12                   28   \n",
       "2  0 days 00:40:27.000000000     2016-01-01 16:04:15                   30   \n",
       "\n",
       "  nombre_estacion_destino  long_estacion_destino  lat_estacion_destino  \\\n",
       "0            Plaza Italia             -58.420997            -34.580127   \n",
       "1             Plaza Boedo             -58.412398            -34.622850   \n",
       "2                    Peña             -58.397378            -34.590394   \n",
       "\n",
       "                          domicilio_estacion_destino  \n",
       "0                       Av. Santa Fe y Av. Sarmiento  \n",
       "1  Carlos Calvo entre Virrey Liniers y Sánchez de...  \n",
       "2                                   Azcuénaga y Peña  "
      ],
      "text/html": "<div>\n<style scoped>\n    .dataframe tbody tr th:only-of-type {\n        vertical-align: middle;\n    }\n\n    .dataframe tbody tr th {\n        vertical-align: top;\n    }\n\n    .dataframe thead th {\n        text-align: right;\n    }\n</style>\n<table border=\"1\" class=\"dataframe\">\n  <thead>\n    <tr style=\"text-align: right;\">\n      <th></th>\n      <th>periodo</th>\n      <th>fecha_origen_recorrido</th>\n      <th>id_estacion_origen</th>\n      <th>nombre_estacion_origen</th>\n      <th>long_estacion_origen</th>\n      <th>lat_estacion_origen</th>\n      <th>domicilio_estacion_origen</th>\n      <th>duracion_recorrido</th>\n      <th>fecha_destino_recorrido</th>\n      <th>id_estacion_destino</th>\n      <th>nombre_estacion_destino</th>\n      <th>long_estacion_destino</th>\n      <th>lat_estacion_destino</th>\n      <th>domicilio_estacion_destino</th>\n    </tr>\n  </thead>\n  <tbody>\n    <tr>\n      <th>0</th>\n      <td>2016</td>\n      <td>2016-01-01 02:21:41</td>\n      <td>11</td>\n      <td>Tribunales</td>\n      <td>-58.385022</td>\n      <td>-34.601313</td>\n      <td>Tribunales</td>\n      <td>0 days 00:16:29.000000000</td>\n      <td>2016-01-01 02:48:05</td>\n      <td>5</td>\n      <td>Plaza Italia</td>\n      <td>-58.420997</td>\n      <td>-34.580127</td>\n      <td>Av. Santa Fe y Av. Sarmiento</td>\n    </tr>\n    <tr>\n      <th>1</th>\n      <td>2016</td>\n      <td>2016-01-01 08:38:19</td>\n      <td>28</td>\n      <td>Plaza Boedo</td>\n      <td>-58.412398</td>\n      <td>-34.622850</td>\n      <td>Carlos Calvo entre Virrey Liniers y Sánchez de...</td>\n      <td>0 days 00:55:26.000000000</td>\n      <td>2016-01-01 09:36:12</td>\n      <td>28</td>\n      <td>Plaza Boedo</td>\n      <td>-58.412398</td>\n      <td>-34.622850</td>\n      <td>Carlos Calvo entre Virrey Liniers y Sánchez de...</td>\n    </tr>\n    <tr>\n      <th>2</th>\n      <td>2016</td>\n      <td>2016-01-01 15:01:07</td>\n      <td>28</td>\n      <td>Plaza Boedo</td>\n      <td>-58.412398</td>\n      <td>-34.622850</td>\n      <td>Carlos Calvo entre Virrey Liniers y Sánchez de...</td>\n      <td>0 days 00:40:27.000000000</td>\n      <td>2016-01-01 16:04:15</td>\n      <td>30</td>\n      <td>Peña</td>\n      <td>-58.397378</td>\n      <td>-34.590394</td>\n      <td>Azcuénaga y Peña</td>\n    </tr>\n  </tbody>\n</table>\n</div>"
     },
     "metadata": {},
     "execution_count": 58
    }
   ],
   "source": [
    "df_2016.head(3)"
   ]
  },
  {
   "cell_type": "code",
   "execution_count": 59,
   "metadata": {},
   "outputs": [
    {
     "output_type": "execute_result",
     "data": {
      "text/plain": [
       "   periodo fecha_origen_recorrido  id_estacion_origen nombre_estacion_origen  \\\n",
       "0     2017    2017-01-01 00:02:14                60.0             25 de Mayo   \n",
       "1     2017    2017-01-01 00:02:59                79.0      Azucena Villaflor   \n",
       "2     2017    2017-01-01 00:07:13                11.0             Tribunales   \n",
       "\n",
       "   long_estacion_origen  lat_estacion_origen  \\\n",
       "0            -58.371155           -34.601638   \n",
       "1            -58.363969           -34.611721   \n",
       "2            -58.385022           -34.601313   \n",
       "\n",
       "              domicilio_estacion_origen         duracion_recorrido  \\\n",
       "0                  25 de Mayo y Lavalle  0 days 00:27:44.000000000   \n",
       "1  Azucena Villaflor y Pierina Dealessi  0 days 01:57:21.000000000   \n",
       "2                            Tribunales  0 days 00:25:08.000000000   \n",
       "\n",
       "  fecha_destino_recorrido  id_estacion_destino nombre_estacion_destino  \\\n",
       "0     2017-01-01 00:28:38                  4.0              Plaza Roma   \n",
       "1     2017-01-01 01:00:52                 54.0       Acuña de Figueroa   \n",
       "2     2017-01-01 01:10:21                 84.0                 Lavalle   \n",
       "\n",
       "   long_estacion_destino  lat_estacion_destino  \\\n",
       "0             -58.368950            -34.601721   \n",
       "1             -58.421705            -34.598222   \n",
       "2             -58.395472            -34.602290   \n",
       "\n",
       "             domicilio_estacion_destino  \n",
       "0                    Lavalle y Bouchard  \n",
       "1           Lavalle y Acuña de Figueroa  \n",
       "2  Ayacucho 595 entre Tucumán y Lavalle  "
      ],
      "text/html": "<div>\n<style scoped>\n    .dataframe tbody tr th:only-of-type {\n        vertical-align: middle;\n    }\n\n    .dataframe tbody tr th {\n        vertical-align: top;\n    }\n\n    .dataframe thead th {\n        text-align: right;\n    }\n</style>\n<table border=\"1\" class=\"dataframe\">\n  <thead>\n    <tr style=\"text-align: right;\">\n      <th></th>\n      <th>periodo</th>\n      <th>fecha_origen_recorrido</th>\n      <th>id_estacion_origen</th>\n      <th>nombre_estacion_origen</th>\n      <th>long_estacion_origen</th>\n      <th>lat_estacion_origen</th>\n      <th>domicilio_estacion_origen</th>\n      <th>duracion_recorrido</th>\n      <th>fecha_destino_recorrido</th>\n      <th>id_estacion_destino</th>\n      <th>nombre_estacion_destino</th>\n      <th>long_estacion_destino</th>\n      <th>lat_estacion_destino</th>\n      <th>domicilio_estacion_destino</th>\n    </tr>\n  </thead>\n  <tbody>\n    <tr>\n      <th>0</th>\n      <td>2017</td>\n      <td>2017-01-01 00:02:14</td>\n      <td>60.0</td>\n      <td>25 de Mayo</td>\n      <td>-58.371155</td>\n      <td>-34.601638</td>\n      <td>25 de Mayo y Lavalle</td>\n      <td>0 days 00:27:44.000000000</td>\n      <td>2017-01-01 00:28:38</td>\n      <td>4.0</td>\n      <td>Plaza Roma</td>\n      <td>-58.368950</td>\n      <td>-34.601721</td>\n      <td>Lavalle y Bouchard</td>\n    </tr>\n    <tr>\n      <th>1</th>\n      <td>2017</td>\n      <td>2017-01-01 00:02:59</td>\n      <td>79.0</td>\n      <td>Azucena Villaflor</td>\n      <td>-58.363969</td>\n      <td>-34.611721</td>\n      <td>Azucena Villaflor y Pierina Dealessi</td>\n      <td>0 days 01:57:21.000000000</td>\n      <td>2017-01-01 01:00:52</td>\n      <td>54.0</td>\n      <td>Acuña de Figueroa</td>\n      <td>-58.421705</td>\n      <td>-34.598222</td>\n      <td>Lavalle y Acuña de Figueroa</td>\n    </tr>\n    <tr>\n      <th>2</th>\n      <td>2017</td>\n      <td>2017-01-01 00:07:13</td>\n      <td>11.0</td>\n      <td>Tribunales</td>\n      <td>-58.385022</td>\n      <td>-34.601313</td>\n      <td>Tribunales</td>\n      <td>0 days 00:25:08.000000000</td>\n      <td>2017-01-01 01:10:21</td>\n      <td>84.0</td>\n      <td>Lavalle</td>\n      <td>-58.395472</td>\n      <td>-34.602290</td>\n      <td>Ayacucho 595 entre Tucumán y Lavalle</td>\n    </tr>\n  </tbody>\n</table>\n</div>"
     },
     "metadata": {},
     "execution_count": 59
    }
   ],
   "source": [
    "df_2017.head(3)"
   ]
  },
  {
   "cell_type": "code",
   "execution_count": 60,
   "metadata": {},
   "outputs": [
    {
     "output_type": "execute_result",
     "data": {
      "text/plain": [
       "   periodo fecha_origen_recorrido  id_estacion_origen nombre_estacion_origen  \\\n",
       "0     2018    2018-01-01 00:08:05                45.0                Uruguay   \n",
       "1     2018    2018-01-01 00:18:05               189.0                Posadas   \n",
       "2     2018    2018-01-01 00:20:14                50.0     Hospital Rivadavia   \n",
       "\n",
       "   long_estacion_origen  lat_estacion_origen  \\\n",
       "0            -58.386913           -34.601616   \n",
       "1            -58.385586           -34.588475   \n",
       "2            -58.401148           -34.583677   \n",
       "\n",
       "                        domicilio_estacion_origen         duracion_recorrido  \\\n",
       "0                               Tucumán y Uruguay  0 days 00:19:53.000000000   \n",
       "1  Posadas 1350 entre Montevideo y Rodríguez Peña  0 days 00:26:19.000000000   \n",
       "2    Lucena Pereyra 2516 entre Las Heras y Pagano  0 days 00:27:39.000000000   \n",
       "\n",
       "  fecha_destino_recorrido  id_estacion_destino nombre_estacion_destino  \\\n",
       "0     2018-01-01 00:27:58                183.0         Virrey Cevallos   \n",
       "1     2018-01-01 00:44:24                110.0           Guardia Vieja   \n",
       "2     2018-01-01 00:47:53                 31.0                 Padilla   \n",
       "\n",
       "   long_estacion_destino  lat_estacion_destino  \\\n",
       "0             -58.389692            -34.615638   \n",
       "1             -58.415459            -34.601761   \n",
       "2             -58.439709            -34.603162   \n",
       "\n",
       "                          domicilio_estacion_destino  \n",
       "0          México 1652 entre Virrey Cevallos y Solís  \n",
       "1  Guardia Vieja 3606 entre Billinghurst y Mario ...  \n",
       "2                                Padilla y Warnes Av  "
      ],
      "text/html": "<div>\n<style scoped>\n    .dataframe tbody tr th:only-of-type {\n        vertical-align: middle;\n    }\n\n    .dataframe tbody tr th {\n        vertical-align: top;\n    }\n\n    .dataframe thead th {\n        text-align: right;\n    }\n</style>\n<table border=\"1\" class=\"dataframe\">\n  <thead>\n    <tr style=\"text-align: right;\">\n      <th></th>\n      <th>periodo</th>\n      <th>fecha_origen_recorrido</th>\n      <th>id_estacion_origen</th>\n      <th>nombre_estacion_origen</th>\n      <th>long_estacion_origen</th>\n      <th>lat_estacion_origen</th>\n      <th>domicilio_estacion_origen</th>\n      <th>duracion_recorrido</th>\n      <th>fecha_destino_recorrido</th>\n      <th>id_estacion_destino</th>\n      <th>nombre_estacion_destino</th>\n      <th>long_estacion_destino</th>\n      <th>lat_estacion_destino</th>\n      <th>domicilio_estacion_destino</th>\n    </tr>\n  </thead>\n  <tbody>\n    <tr>\n      <th>0</th>\n      <td>2018</td>\n      <td>2018-01-01 00:08:05</td>\n      <td>45.0</td>\n      <td>Uruguay</td>\n      <td>-58.386913</td>\n      <td>-34.601616</td>\n      <td>Tucumán y Uruguay</td>\n      <td>0 days 00:19:53.000000000</td>\n      <td>2018-01-01 00:27:58</td>\n      <td>183.0</td>\n      <td>Virrey Cevallos</td>\n      <td>-58.389692</td>\n      <td>-34.615638</td>\n      <td>México 1652 entre Virrey Cevallos y Solís</td>\n    </tr>\n    <tr>\n      <th>1</th>\n      <td>2018</td>\n      <td>2018-01-01 00:18:05</td>\n      <td>189.0</td>\n      <td>Posadas</td>\n      <td>-58.385586</td>\n      <td>-34.588475</td>\n      <td>Posadas 1350 entre Montevideo y Rodríguez Peña</td>\n      <td>0 days 00:26:19.000000000</td>\n      <td>2018-01-01 00:44:24</td>\n      <td>110.0</td>\n      <td>Guardia Vieja</td>\n      <td>-58.415459</td>\n      <td>-34.601761</td>\n      <td>Guardia Vieja 3606 entre Billinghurst y Mario ...</td>\n    </tr>\n    <tr>\n      <th>2</th>\n      <td>2018</td>\n      <td>2018-01-01 00:20:14</td>\n      <td>50.0</td>\n      <td>Hospital Rivadavia</td>\n      <td>-58.401148</td>\n      <td>-34.583677</td>\n      <td>Lucena Pereyra 2516 entre Las Heras y Pagano</td>\n      <td>0 days 00:27:39.000000000</td>\n      <td>2018-01-01 00:47:53</td>\n      <td>31.0</td>\n      <td>Padilla</td>\n      <td>-58.439709</td>\n      <td>-34.603162</td>\n      <td>Padilla y Warnes Av</td>\n    </tr>\n  </tbody>\n</table>\n</div>"
     },
     "metadata": {},
     "execution_count": 60
    }
   ],
   "source": [
    "df_2018.head(3)"
   ]
  },
  {
   "cell_type": "code",
   "execution_count": 61,
   "metadata": {},
   "outputs": [],
   "source": [
    "df_total = pd.concat([df_2013, df_2014,df_2015,df_2016,df_2017,df_2018,])"
   ]
  },
  {
   "cell_type": "code",
   "execution_count": 62,
   "metadata": {},
   "outputs": [
    {
     "output_type": "execute_result",
     "data": {
      "text/plain": [
       "periodo                         int64\n",
       "id_usuario                    float64\n",
       "fecha_origen_recorrido         object\n",
       "id_estacion_origen            float64\n",
       "nombre_estacion_origen         object\n",
       "long_estacion_origen          float64\n",
       "lat_estacion_origen           float64\n",
       "domicilio_estacion_origen      object\n",
       "duracion_recorrido             object\n",
       "fecha_destino_recorrido        object\n",
       "id_estacion_destino           float64\n",
       "nombre_estacion_destino        object\n",
       "long_estacion_destino         float64\n",
       "lat_estacion_destino          float64\n",
       "domicilio_estacion_destino     object\n",
       "dtype: object"
      ]
     },
     "metadata": {},
     "execution_count": 62
    }
   ],
   "source": [
    "df_total.dtypes"
   ]
  },
  {
   "cell_type": "markdown",
   "metadata": {},
   "source": [
    "### Dropeamos el id_usuario por la cantidad de nulos y reorganizamos el CSV total"
   ]
  },
  {
   "cell_type": "code",
   "execution_count": 63,
   "metadata": {},
   "outputs": [
    {
     "output_type": "execute_result",
     "data": {
      "text/plain": [
       "Index(['periodo', 'id_usuario', 'fecha_origen_recorrido', 'id_estacion_origen',\n",
       "       'nombre_estacion_origen', 'long_estacion_origen', 'lat_estacion_origen',\n",
       "       'domicilio_estacion_origen', 'duracion_recorrido',\n",
       "       'fecha_destino_recorrido', 'id_estacion_destino',\n",
       "       'nombre_estacion_destino', 'long_estacion_destino',\n",
       "       'lat_estacion_destino', 'domicilio_estacion_destino'],\n",
       "      dtype='object')"
      ]
     },
     "metadata": {},
     "execution_count": 63
    }
   ],
   "source": [
    "df_total.columns"
   ]
  },
  {
   "cell_type": "code",
   "execution_count": 64,
   "metadata": {},
   "outputs": [],
   "source": [
    "df_total = df_total[['periodo', 'fecha_origen_recorrido', 'id_estacion_origen',\n",
    "       'nombre_estacion_origen', 'long_estacion_origen', 'lat_estacion_origen',\n",
    "       'domicilio_estacion_origen', 'duracion_recorrido',\n",
    "       'fecha_destino_recorrido', 'id_estacion_destino',\n",
    "       'nombre_estacion_destino', 'long_estacion_destino',\n",
    "       'lat_estacion_destino', 'domicilio_estacion_destino']]"
   ]
  },
  {
   "cell_type": "markdown",
   "metadata": {},
   "source": [
    "### Vemos la cantidad de nulos"
   ]
  },
  {
   "cell_type": "code",
   "execution_count": 65,
   "metadata": {},
   "outputs": [],
   "source": [
    "def missing_values_table(df_total):\n",
    "        mis_val = df_total.isnull().sum()\n",
    "        mis_val_percent = 100 * df_total.isnull().sum() / len(df_total)\n",
    "        mis_val_table = pd.concat([mis_val, mis_val_percent], axis=1)\n",
    "        mis_val_table_ren_columns = mis_val_table.rename(\n",
    "        columns = {0 : 'Missing Values', 1 : '% of Total Values'})\n",
    "        mis_val_table_ren_columns = mis_val_table_ren_columns[\n",
    "            mis_val_table_ren_columns.iloc[:,1] != 0].sort_values(\n",
    "        '% of Total Values', ascending=False).round(1)\n",
    "        print (\"Your selected dataframe has \" + str(df_total.shape[1]) + \" columns.\\n\"      \n",
    "            \"There are \" + str(mis_val_table_ren_columns.shape[0]) +\n",
    "              \" columns that have missing values.\")\n",
    "        return mis_val_table_ren_columns\n"
   ]
  },
  {
   "cell_type": "code",
   "execution_count": 66,
   "metadata": {},
   "outputs": [
    {
     "output_type": "stream",
     "name": "stdout",
     "text": [
      "Your selected dataframe has 14 columns.\nThere are 12 columns that have missing values.\n"
     ]
    },
    {
     "output_type": "execute_result",
     "data": {
      "text/plain": [
       "                            Missing Values  % of Total Values\n",
       "fecha_destino_recorrido             682184                9.9\n",
       "long_estacion_destino               206083                3.0\n",
       "lat_estacion_destino                206083                3.0\n",
       "domicilio_estacion_destino          206083                3.0\n",
       "id_estacion_destino                 202621                2.9\n",
       "long_estacion_origen                195031                2.8\n",
       "lat_estacion_origen                 195031                2.8\n",
       "domicilio_estacion_origen           195031                2.8\n",
       "id_estacion_origen                  191863                2.8\n",
       "nombre_estacion_destino             167377                2.4\n",
       "nombre_estacion_origen              157497                2.3\n",
       "duracion_recorrido                   43723                0.6"
      ],
      "text/html": "<div>\n<style scoped>\n    .dataframe tbody tr th:only-of-type {\n        vertical-align: middle;\n    }\n\n    .dataframe tbody tr th {\n        vertical-align: top;\n    }\n\n    .dataframe thead th {\n        text-align: right;\n    }\n</style>\n<table border=\"1\" class=\"dataframe\">\n  <thead>\n    <tr style=\"text-align: right;\">\n      <th></th>\n      <th>Missing Values</th>\n      <th>% of Total Values</th>\n    </tr>\n  </thead>\n  <tbody>\n    <tr>\n      <th>fecha_destino_recorrido</th>\n      <td>682184</td>\n      <td>9.9</td>\n    </tr>\n    <tr>\n      <th>long_estacion_destino</th>\n      <td>206083</td>\n      <td>3.0</td>\n    </tr>\n    <tr>\n      <th>lat_estacion_destino</th>\n      <td>206083</td>\n      <td>3.0</td>\n    </tr>\n    <tr>\n      <th>domicilio_estacion_destino</th>\n      <td>206083</td>\n      <td>3.0</td>\n    </tr>\n    <tr>\n      <th>id_estacion_destino</th>\n      <td>202621</td>\n      <td>2.9</td>\n    </tr>\n    <tr>\n      <th>long_estacion_origen</th>\n      <td>195031</td>\n      <td>2.8</td>\n    </tr>\n    <tr>\n      <th>lat_estacion_origen</th>\n      <td>195031</td>\n      <td>2.8</td>\n    </tr>\n    <tr>\n      <th>domicilio_estacion_origen</th>\n      <td>195031</td>\n      <td>2.8</td>\n    </tr>\n    <tr>\n      <th>id_estacion_origen</th>\n      <td>191863</td>\n      <td>2.8</td>\n    </tr>\n    <tr>\n      <th>nombre_estacion_destino</th>\n      <td>167377</td>\n      <td>2.4</td>\n    </tr>\n    <tr>\n      <th>nombre_estacion_origen</th>\n      <td>157497</td>\n      <td>2.3</td>\n    </tr>\n    <tr>\n      <th>duracion_recorrido</th>\n      <td>43723</td>\n      <td>0.6</td>\n    </tr>\n  </tbody>\n</table>\n</div>"
     },
     "metadata": {},
     "execution_count": 66
    }
   ],
   "source": [
    "missing_values_table(df_total)"
   ]
  },
  {
   "cell_type": "markdown",
   "metadata": {},
   "source": [
    "### Dropeamos los nulos"
   ]
  },
  {
   "cell_type": "code",
   "execution_count": 67,
   "metadata": {},
   "outputs": [
    {
     "output_type": "stream",
     "name": "stdout",
     "text": [
      "Your selected dataframe has 14 columns.\nThere are 0 columns that have missing values.\n"
     ]
    },
    {
     "output_type": "execute_result",
     "data": {
      "text/plain": [
       "Empty DataFrame\n",
       "Columns: [Missing Values, % of Total Values]\n",
       "Index: []"
      ],
      "text/html": "<div>\n<style scoped>\n    .dataframe tbody tr th:only-of-type {\n        vertical-align: middle;\n    }\n\n    .dataframe tbody tr th {\n        vertical-align: top;\n    }\n\n    .dataframe thead th {\n        text-align: right;\n    }\n</style>\n<table border=\"1\" class=\"dataframe\">\n  <thead>\n    <tr style=\"text-align: right;\">\n      <th></th>\n      <th>Missing Values</th>\n      <th>% of Total Values</th>\n    </tr>\n  </thead>\n  <tbody>\n  </tbody>\n</table>\n</div>"
     },
     "metadata": {},
     "execution_count": 67
    }
   ],
   "source": [
    "df_total = df_total.dropna()\n",
    "missing_values_table(df_total)"
   ]
  },
  {
   "cell_type": "markdown",
   "metadata": {},
   "source": [
    "### Últimos retoques al df_total"
   ]
  },
  {
   "cell_type": "code",
   "execution_count": 68,
   "metadata": {},
   "outputs": [
    {
     "output_type": "execute_result",
     "data": {
      "text/plain": [
       "         periodo   fecha_origen_recorrido  id_estacion_origen  \\\n",
       "0           2013  2013-01-02 07:49:52.937                13.0   \n",
       "1           2013  2013-01-02 07:52:11.530                13.0   \n",
       "2           2013  2013-01-02 07:53:56.140                17.0   \n",
       "3           2013  2013-01-02 07:54:55.187                14.0   \n",
       "4           2013  2013-01-02 07:55:22.483                17.0   \n",
       "...          ...                      ...                 ...   \n",
       "2619963     2018      2018-12-30 19:46:32                75.0   \n",
       "2619964     2018      2018-12-30 19:48:14               139.0   \n",
       "2619965     2018      2018-12-30 19:48:51                30.0   \n",
       "2619966     2018      2018-12-30 19:51:42                52.0   \n",
       "2619967     2018      2018-12-30 19:52:41                 6.0   \n",
       "\n",
       "        nombre_estacion_origen  long_estacion_origen  lat_estacion_origen  \\\n",
       "0                         Once            -58.406599           -34.609622   \n",
       "1                         Once            -58.406599           -34.609622   \n",
       "2                Plaza Almagro            -58.418832           -34.606399   \n",
       "3                     Pacífico            -58.426320           -34.577787   \n",
       "4                Plaza Almagro            -58.418832           -34.606399   \n",
       "...                        ...                   ...                  ...   \n",
       "2619963  Plaza Primero de Mayo            -58.398905           -34.612124   \n",
       "2619964         Virrey Liniers            -58.413150           -34.633309   \n",
       "2619965                   Peña            -58.397378           -34.590394   \n",
       "2619966  Sánchez de Bustamante            -58.414668           -34.607089   \n",
       "2619967          Parque Lezama            -58.369709           -34.628301   \n",
       "\n",
       "                      domicilio_estacion_origen         duracion_recorrido  \\\n",
       "0                                Plaza Miserere  0 days 00:21:43.733000000   \n",
       "1                                Plaza Miserere  0 days 00:30:49.593000000   \n",
       "2                                 Plaza Almagro  0 days 00:31:08.157000000   \n",
       "3                                      Pacífico  0 days 00:59:34.106000000   \n",
       "4                                 Plaza Almagro  0 days 00:18:21.094000000   \n",
       "...                                         ...                        ...   \n",
       "2619963  Pichincha entre Adolfo Alsina y Moreno  0 days 00:07:15.000000000   \n",
       "2619964           Salcedo 3401 y Virrey Liniers  0 days 00:09:59.000000000   \n",
       "2619965                        Azcuénaga y Peña  0 days 00:10:32.000000000   \n",
       "2619966      Sánchez de Bustamante y Perón Juan  0 days 00:09:57.000000000   \n",
       "2619967                Av Martín García e Irala  0 days 00:10:26.000000000   \n",
       "\n",
       "         fecha_destino_recorrido  id_estacion_destino nombre_estacion_destino  \\\n",
       "0        2013-01-02 08:11:36.670                 21.0        Parque Patricios   \n",
       "1        2013-01-02 08:23:01.123                  4.0              Plaza Roma   \n",
       "2        2013-01-02 08:25:04.297                 12.0     Plaza Vicente López   \n",
       "3        2013-01-02 08:54:29.293                  3.0                  Aduana   \n",
       "4        2013-01-02 08:13:43.577                  7.0                Obelisco   \n",
       "...                          ...                  ...                     ...   \n",
       "2619963      2018-12-30 19:53:47                118.0                  México   \n",
       "2619964      2018-12-30 19:58:13                199.0  Estados Unidos y Boedo   \n",
       "2619965      2018-12-30 19:59:23                 76.0                Ayacucho   \n",
       "2619966      2018-12-30 20:01:39                 52.0   Sánchez de Bustamante   \n",
       "2619967      2018-12-30 20:03:07                137.0        Azopardo y Chile   \n",
       "\n",
       "         long_estacion_destino  lat_estacion_destino  \\\n",
       "0                   -58.406613            -34.640029   \n",
       "1                   -58.368950            -34.601721   \n",
       "2                   -58.388949            -34.593177   \n",
       "3                   -58.368918            -34.611242   \n",
       "4                   -58.380990            -34.605840   \n",
       "...                        ...                   ...   \n",
       "2619963             -58.402827            -34.616813   \n",
       "2619964             -58.415882            -34.622439   \n",
       "2619965             -58.394927            -34.607573   \n",
       "2619966             -58.414668            -34.607089   \n",
       "2619967             -58.367470            -34.615926   \n",
       "\n",
       "                            domicilio_estacion_destino  \n",
       "0                                   Iguazú y Uspallata  \n",
       "1                                   Lavalle y Bouchard  \n",
       "2                                  Plaza Vicente López  \n",
       "3                        Av. Ing.Huergo y Av. Belgrano  \n",
       "4        Av. 9 de Julio y Tte. Gral Juan Domingo Perón  \n",
       "...                                                ...  \n",
       "2619963                              Saavedra y México  \n",
       "2619964         Estados Unidos 3568 entre Boedo y Maza  \n",
       "2619965    Ayacucho entre Perón Juan y Bartolomé Mitre  \n",
       "2619966             Sánchez de Bustamante y Perón Juan  \n",
       "2619967                           Azopardo 700 y Chile  \n",
       "\n",
       "[5870876 rows x 14 columns]"
      ],
      "text/html": "<div>\n<style scoped>\n    .dataframe tbody tr th:only-of-type {\n        vertical-align: middle;\n    }\n\n    .dataframe tbody tr th {\n        vertical-align: top;\n    }\n\n    .dataframe thead th {\n        text-align: right;\n    }\n</style>\n<table border=\"1\" class=\"dataframe\">\n  <thead>\n    <tr style=\"text-align: right;\">\n      <th></th>\n      <th>periodo</th>\n      <th>fecha_origen_recorrido</th>\n      <th>id_estacion_origen</th>\n      <th>nombre_estacion_origen</th>\n      <th>long_estacion_origen</th>\n      <th>lat_estacion_origen</th>\n      <th>domicilio_estacion_origen</th>\n      <th>duracion_recorrido</th>\n      <th>fecha_destino_recorrido</th>\n      <th>id_estacion_destino</th>\n      <th>nombre_estacion_destino</th>\n      <th>long_estacion_destino</th>\n      <th>lat_estacion_destino</th>\n      <th>domicilio_estacion_destino</th>\n    </tr>\n  </thead>\n  <tbody>\n    <tr>\n      <th>0</th>\n      <td>2013</td>\n      <td>2013-01-02 07:49:52.937</td>\n      <td>13.0</td>\n      <td>Once</td>\n      <td>-58.406599</td>\n      <td>-34.609622</td>\n      <td>Plaza Miserere</td>\n      <td>0 days 00:21:43.733000000</td>\n      <td>2013-01-02 08:11:36.670</td>\n      <td>21.0</td>\n      <td>Parque Patricios</td>\n      <td>-58.406613</td>\n      <td>-34.640029</td>\n      <td>Iguazú y Uspallata</td>\n    </tr>\n    <tr>\n      <th>1</th>\n      <td>2013</td>\n      <td>2013-01-02 07:52:11.530</td>\n      <td>13.0</td>\n      <td>Once</td>\n      <td>-58.406599</td>\n      <td>-34.609622</td>\n      <td>Plaza Miserere</td>\n      <td>0 days 00:30:49.593000000</td>\n      <td>2013-01-02 08:23:01.123</td>\n      <td>4.0</td>\n      <td>Plaza Roma</td>\n      <td>-58.368950</td>\n      <td>-34.601721</td>\n      <td>Lavalle y Bouchard</td>\n    </tr>\n    <tr>\n      <th>2</th>\n      <td>2013</td>\n      <td>2013-01-02 07:53:56.140</td>\n      <td>17.0</td>\n      <td>Plaza Almagro</td>\n      <td>-58.418832</td>\n      <td>-34.606399</td>\n      <td>Plaza Almagro</td>\n      <td>0 days 00:31:08.157000000</td>\n      <td>2013-01-02 08:25:04.297</td>\n      <td>12.0</td>\n      <td>Plaza Vicente López</td>\n      <td>-58.388949</td>\n      <td>-34.593177</td>\n      <td>Plaza Vicente López</td>\n    </tr>\n    <tr>\n      <th>3</th>\n      <td>2013</td>\n      <td>2013-01-02 07:54:55.187</td>\n      <td>14.0</td>\n      <td>Pacífico</td>\n      <td>-58.426320</td>\n      <td>-34.577787</td>\n      <td>Pacífico</td>\n      <td>0 days 00:59:34.106000000</td>\n      <td>2013-01-02 08:54:29.293</td>\n      <td>3.0</td>\n      <td>Aduana</td>\n      <td>-58.368918</td>\n      <td>-34.611242</td>\n      <td>Av. Ing.Huergo y Av. Belgrano</td>\n    </tr>\n    <tr>\n      <th>4</th>\n      <td>2013</td>\n      <td>2013-01-02 07:55:22.483</td>\n      <td>17.0</td>\n      <td>Plaza Almagro</td>\n      <td>-58.418832</td>\n      <td>-34.606399</td>\n      <td>Plaza Almagro</td>\n      <td>0 days 00:18:21.094000000</td>\n      <td>2013-01-02 08:13:43.577</td>\n      <td>7.0</td>\n      <td>Obelisco</td>\n      <td>-58.380990</td>\n      <td>-34.605840</td>\n      <td>Av. 9 de Julio y Tte. Gral Juan Domingo Perón</td>\n    </tr>\n    <tr>\n      <th>...</th>\n      <td>...</td>\n      <td>...</td>\n      <td>...</td>\n      <td>...</td>\n      <td>...</td>\n      <td>...</td>\n      <td>...</td>\n      <td>...</td>\n      <td>...</td>\n      <td>...</td>\n      <td>...</td>\n      <td>...</td>\n      <td>...</td>\n      <td>...</td>\n    </tr>\n    <tr>\n      <th>2619963</th>\n      <td>2018</td>\n      <td>2018-12-30 19:46:32</td>\n      <td>75.0</td>\n      <td>Plaza Primero de Mayo</td>\n      <td>-58.398905</td>\n      <td>-34.612124</td>\n      <td>Pichincha entre Adolfo Alsina y Moreno</td>\n      <td>0 days 00:07:15.000000000</td>\n      <td>2018-12-30 19:53:47</td>\n      <td>118.0</td>\n      <td>México</td>\n      <td>-58.402827</td>\n      <td>-34.616813</td>\n      <td>Saavedra y México</td>\n    </tr>\n    <tr>\n      <th>2619964</th>\n      <td>2018</td>\n      <td>2018-12-30 19:48:14</td>\n      <td>139.0</td>\n      <td>Virrey Liniers</td>\n      <td>-58.413150</td>\n      <td>-34.633309</td>\n      <td>Salcedo 3401 y Virrey Liniers</td>\n      <td>0 days 00:09:59.000000000</td>\n      <td>2018-12-30 19:58:13</td>\n      <td>199.0</td>\n      <td>Estados Unidos y Boedo</td>\n      <td>-58.415882</td>\n      <td>-34.622439</td>\n      <td>Estados Unidos 3568 entre Boedo y Maza</td>\n    </tr>\n    <tr>\n      <th>2619965</th>\n      <td>2018</td>\n      <td>2018-12-30 19:48:51</td>\n      <td>30.0</td>\n      <td>Peña</td>\n      <td>-58.397378</td>\n      <td>-34.590394</td>\n      <td>Azcuénaga y Peña</td>\n      <td>0 days 00:10:32.000000000</td>\n      <td>2018-12-30 19:59:23</td>\n      <td>76.0</td>\n      <td>Ayacucho</td>\n      <td>-58.394927</td>\n      <td>-34.607573</td>\n      <td>Ayacucho entre Perón Juan y Bartolomé Mitre</td>\n    </tr>\n    <tr>\n      <th>2619966</th>\n      <td>2018</td>\n      <td>2018-12-30 19:51:42</td>\n      <td>52.0</td>\n      <td>Sánchez de Bustamante</td>\n      <td>-58.414668</td>\n      <td>-34.607089</td>\n      <td>Sánchez de Bustamante y Perón Juan</td>\n      <td>0 days 00:09:57.000000000</td>\n      <td>2018-12-30 20:01:39</td>\n      <td>52.0</td>\n      <td>Sánchez de Bustamante</td>\n      <td>-58.414668</td>\n      <td>-34.607089</td>\n      <td>Sánchez de Bustamante y Perón Juan</td>\n    </tr>\n    <tr>\n      <th>2619967</th>\n      <td>2018</td>\n      <td>2018-12-30 19:52:41</td>\n      <td>6.0</td>\n      <td>Parque Lezama</td>\n      <td>-58.369709</td>\n      <td>-34.628301</td>\n      <td>Av Martín García e Irala</td>\n      <td>0 days 00:10:26.000000000</td>\n      <td>2018-12-30 20:03:07</td>\n      <td>137.0</td>\n      <td>Azopardo y Chile</td>\n      <td>-58.367470</td>\n      <td>-34.615926</td>\n      <td>Azopardo 700 y Chile</td>\n    </tr>\n  </tbody>\n</table>\n<p>5870876 rows × 14 columns</p>\n</div>"
     },
     "metadata": {},
     "execution_count": 68
    }
   ],
   "source": [
    "df_total"
   ]
  },
  {
   "cell_type": "code",
   "execution_count": 69,
   "metadata": {},
   "outputs": [],
   "source": [
    "df_total[[\"id_estacion_origen\",\"id_estacion_destino\"]]   = df_total[[\"id_estacion_origen\",\"id_estacion_destino\"]].astype(int)"
   ]
  },
  {
   "cell_type": "markdown",
   "metadata": {},
   "source": [
    "#### Trabajamos las fechas"
   ]
  },
  {
   "cell_type": "code",
   "execution_count": 70,
   "metadata": {},
   "outputs": [],
   "source": [
    "df_total[\"fecha_origen_recorrido\"] = pd.to_datetime(df_total['fecha_origen_recorrido'])\n",
    "\n",
    "df_total[\"fecha_destino_recorrido\"] = pd.to_datetime(df_total['fecha_destino_recorrido'])\n"
   ]
  },
  {
   "cell_type": "code",
   "execution_count": 71,
   "metadata": {},
   "outputs": [],
   "source": [
    "# Create the day of week Category by iterrating over 7 days (March 4th, 2019 is a Monday)\n",
    "days = [(dt.datetime(2019, 3, 4) + dt.timedelta(days=x)).strftime('%a') for x in range(0, 7)]\n",
    "day_type = CategoricalDtype(categories=days, ordered=True)\n",
    "\n",
    "# Create the month Category by iterrating over the months\n",
    "months = [dt.datetime(2019, x, 1).strftime('%B') for x in range(1, 13)]\n",
    "month_type = CategoricalDtype(categories=months, ordered=True)"
   ]
  },
  {
   "cell_type": "code",
   "execution_count": 72,
   "metadata": {},
   "outputs": [],
   "source": [
    "# Clean up column names for ease of use\n",
    "#df.columns = [' '.join(x.replace('trip_', '').replace('_seconds', '').split('_')).title() for x in df.columns]\n",
    "\n",
    "# df_total[\"fecha_origen_recorrido\"] = pd.to_datetime(df_total[\"fecha_origen_recorrido\"])\n",
    "\n",
    "df_total['Date'] = df_total['fecha_origen_recorrido'].apply(lambda x: x.strftime('%Y-%m-%d'))\n",
    "df_total['Quarter'] = df_total['fecha_origen_recorrido'].apply(lambda x: int((int(x.strftime('%m')) - 1) / 3) + 1)\n",
    "df_total['Month'] = df_total['fecha_origen_recorrido'].apply(lambda x: x.strftime('%B')).astype(month_type)\n",
    "df_total['Day of Week'] = df_total['fecha_origen_recorrido'].apply(lambda x: x.strftime('%a')).astype(day_type)\n",
    "df_total['Hour'] = df_total['fecha_origen_recorrido'].apply(lambda x: x.strftime('%H'))\n",
    "\n",
    "# Create a \"Route ID\" in the \"[start station ID]-[end station ID]\" format\n",
    "df_total['Route Id'] = df_total.apply(lambda x: '{0}-{1}'.format(int(x['id_estacion_origen']), int(x[\"id_estacion_destino\"])), axis=1)"
   ]
  },
  {
   "cell_type": "code",
   "execution_count": 80,
   "metadata": {},
   "outputs": [
    {
     "output_type": "execute_result",
     "data": {
      "text/plain": [
       "Index(['periodo', 'fecha_origen_recorrido', 'id_estacion_origen',\n",
       "       'nombre_estacion_origen', 'long_estacion_origen', 'lat_estacion_origen',\n",
       "       'domicilio_estacion_origen', 'duracion_recorrido',\n",
       "       'fecha_destino_recorrido', 'id_estacion_destino',\n",
       "       'nombre_estacion_destino', 'long_estacion_destino',\n",
       "       'lat_estacion_destino', 'domicilio_estacion_destino', 'Date', 'Quarter',\n",
       "       'Month', 'Day of Week', 'Hour', 'Route Id', 'duracion_recorridos_m'],\n",
       "      dtype='object')"
      ]
     },
     "metadata": {},
     "execution_count": 80
    }
   ],
   "source": [
    "df_total.columns"
   ]
  },
  {
   "cell_type": "code",
   "execution_count": 74,
   "metadata": {},
   "outputs": [],
   "source": [
    "#df_total[\"dia\"] = df_total[\"fecha_origen_recorrido\"].dt.day\n",
    "#df_total[\"mes\"] = df_total[\"fecha_origen_recorrido\"].dt.month\n",
    "#df_total[\"horario\"] = df_total[\"fecha_origen_recorrido\"].dt.hour\n",
    "df_total[\"duracion_recorridos_m\"] = df_total.duracion_recorrido.str.extract(\"^\\d days 00:(\\d+):.*\")"
   ]
  },
  {
   "cell_type": "markdown",
   "metadata": {},
   "source": [
    "### Exportamos a un CSV"
   ]
  },
  {
   "cell_type": "code",
   "execution_count": 75,
   "metadata": {},
   "outputs": [],
   "source": [
    "df_total.to_csv(\"df_total.csv\")"
   ]
  },
  {
   "cell_type": "code",
   "execution_count": 79,
   "metadata": {},
   "outputs": [],
   "source": [
    "df_reducido = df_total.sample(n=10000)\n",
    "df_reducido.to_csv(\"df_reducido.csv\")"
   ]
  },
  {
   "cell_type": "code",
   "execution_count": null,
   "metadata": {},
   "outputs": [],
   "source": []
  }
 ],
 "metadata": {
  "kernelspec": {
   "display_name": "Python 3",
   "language": "python",
   "name": "python3"
  },
  "language_info": {
   "codemirror_mode": {
    "name": "ipython",
    "version": 3
   },
   "file_extension": ".py",
   "mimetype": "text/x-python",
   "name": "python",
   "nbconvert_exporter": "python",
   "pygments_lexer": "ipython3",
   "version": "3.8.5-final"
  }
 },
 "nbformat": 4,
 "nbformat_minor": 4
}