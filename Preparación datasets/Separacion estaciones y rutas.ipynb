{
 "cells": [
  {
   "cell_type": "code",
   "execution_count": 1,
   "metadata": {},
   "outputs": [],
   "source": [
    "import pandas as pd\n",
    "import numpy as np\n",
    "import sklearn.neighbors"
   ]
  },
  {
   "cell_type": "code",
   "execution_count": 118,
   "metadata": {},
   "outputs": [],
   "source": [
    "df=pd.read_csv('df_total.csv')"
   ]
  },
  {
   "cell_type": "code",
   "execution_count": 119,
   "metadata": {},
   "outputs": [],
   "source": [
    "est_origen=df[['id_estacion_origen','nombre_estacion_origen', 'long_estacion_origen', 'lat_estacion_origen','domicilio_estacion_origen']].copy().drop_duplicates(subset = None)\n",
    "est_destino=df[['id_estacion_destino','nombre_estacion_destino', 'long_estacion_destino','lat_estacion_destino', 'domicilio_estacion_destino']].copy().drop_duplicates(subset = None)\n",
    "est_destino.columns = [x.replace(\"destino\", \"origen\")  for x in est_destino.columns] \n",
    "\n",
    "\n",
    "estaciones=est_origen.append(est_destino).drop_duplicates()\n",
    "estaciones.columns = [x.replace(\"_estacion_origen\", \"\")  for x in estaciones.columns]\n",
    "estaciones=estaciones.set_index('id').sort_index()\n",
    "estaciones.to_csv('estaciones.csv')"
   ]
  },
  {
   "cell_type": "code",
   "execution_count": 6,
   "metadata": {},
   "outputs": [],
   "source": [
    "#Explicación del código\n",
    "#https://medium.com/@danalindquist/finding-the-distance-between-two-lists-of-geographic-coordinates-9ace7e43bb2f\n",
    "estaciones=pd.read_csv('estaciones.csv',index_col='id')\n",
    "\n",
    "\n",
    "estaciones[['lat_radians','long_radians']] = (np.radians(estaciones.loc[:,['lat','long']]))\n",
    "                                             \n",
    "dist = sklearn.neighbors.DistanceMetric.get_metric('haversine')\n",
    "dist_matrix = (dist.pairwise(estaciones[['lat_radians','long_radians']] ,estaciones[['lat_radians','long_radians']] )*6371)\n",
    "\n",
    "id_origen=estaciones.index.copy()\n",
    "id_origen.name='id_origen'\n",
    "id_destino=estaciones.index.copy()\n",
    "id_destino.name='id_destino'\n",
    "\n",
    "\n",
    "distancias_m = (pd.DataFrame(dist_matrix,index=id_origen, \n",
    "                 columns=id_destino))\n"
   ]
  },
  {
   "cell_type": "code",
   "execution_count": 7,
   "metadata": {},
   "outputs": [],
   "source": [
    "distancias = (pd.melt(distancias_m.reset_index(),id_vars='id_origen'))\n",
    "distancias = distancias.rename(columns={'value':'Distancia'})\n",
    "distancias.sort_values(['id_origen','id_destino'],inplace=True,ignore_index=True )\n",
    "\n",
    "distancias['id_ruta'] = distancias.apply(lambda x: '{0}-{1}'.format(int(x['id_origen']), int(x[\"id_destino\"])), axis=1)\n",
    "distancias=distancias.set_index('id_ruta')\n",
    "#distancias = distancias[distancias.Distancia != 0]\n",
    "distancias.to_csv('Rutas.csv')"
   ]
  },
  {
   "cell_type": "code",
   "execution_count": null,
   "metadata": {},
   "outputs": [],
   "source": []
  },
  {
   "cell_type": "code",
   "execution_count": 122,
   "metadata": {},
   "outputs": [],
   "source": []
  },
  {
   "cell_type": "code",
   "execution_count": 123,
   "metadata": {},
   "outputs": [],
   "source": []
  },
  {
   "cell_type": "code",
   "execution_count": null,
   "metadata": {},
   "outputs": [],
   "source": []
  },
  {
   "cell_type": "code",
   "execution_count": null,
   "metadata": {},
   "outputs": [],
   "source": [
    "\n"
   ]
  },
  {
   "cell_type": "code",
   "execution_count": null,
   "metadata": {},
   "outputs": [],
   "source": []
  },
  {
   "cell_type": "code",
   "execution_count": null,
   "metadata": {},
   "outputs": [],
   "source": []
  }
 ],
 "metadata": {
  "kernelspec": {
   "display_name": "Python 3",
   "language": "python",
   "name": "python3"
  },
  "language_info": {
   "codemirror_mode": {
    "name": "ipython",
    "version": 3
   },
   "file_extension": ".py",
   "mimetype": "text/x-python",
   "name": "python",
   "nbconvert_exporter": "python",
   "pygments_lexer": "ipython3",
   "version": "3.7.3"
  }
 },
 "nbformat": 4,
 "nbformat_minor": 4
}
